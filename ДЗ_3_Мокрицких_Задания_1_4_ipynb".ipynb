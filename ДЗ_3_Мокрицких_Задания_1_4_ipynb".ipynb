{
  "cells": [
    {
      "cell_type": "markdown",
      "metadata": {
        "id": "view-in-github",
        "colab_type": "text"
      },
      "source": [
        "<a href=\"https://colab.research.google.com/github/JustMatthew989/Matvey_Mokritskikh_Repo/blob/main/%D0%94%D0%97_3_%D0%9C%D0%BE%D0%BA%D1%80%D0%B8%D1%86%D0%BA%D0%B8%D1%85_%D0%97%D0%B0%D0%B4%D0%B0%D0%BD%D0%B8%D1%8F_1_4_ipynb%22.ipynb\" target=\"_parent\"><img src=\"https://colab.research.google.com/assets/colab-badge.svg\" alt=\"Open In Colab\"/></a>"
      ]
    },
    {
      "cell_type": "code",
      "source": [
        "#ДОМАШНЕЕ ЗАДАНИЕ №3"
      ],
      "metadata": {
        "id": "9vNOtKj8jVO4"
      },
      "execution_count": null,
      "outputs": []
    },
    {
      "cell_type": "code",
      "source": [
        "#ЗАДАНИЕ №1"
      ],
      "metadata": {
        "id": "rx7IZzaBjZIC"
      },
      "execution_count": null,
      "outputs": []
    },
    {
      "cell_type": "code",
      "execution_count": null,
      "metadata": {
        "id": "aCVn6ssvhPmR"
      },
      "outputs": [],
      "source": [
        "import pandas as pd\n",
        "import matplotlib.pyplot as plt\n",
        "import numpy as np\n",
        "import seaborn as sns"
      ]
    },
    {
      "cell_type": "code",
      "execution_count": null,
      "metadata": {
        "id": "56vrfPm9hPmS",
        "outputId": "e29cbe77-50f7-4f3b-b17b-baf50d7ef183"
      },
      "outputs": [
        {
          "data": {
            "text/html": [
              "<div>\n",
              "<style scoped>\n",
              "    .dataframe tbody tr th:only-of-type {\n",
              "        vertical-align: middle;\n",
              "    }\n",
              "\n",
              "    .dataframe tbody tr th {\n",
              "        vertical-align: top;\n",
              "    }\n",
              "\n",
              "    .dataframe thead th {\n",
              "        text-align: right;\n",
              "    }\n",
              "</style>\n",
              "<table border=\"1\" class=\"dataframe\">\n",
              "  <thead>\n",
              "    <tr style=\"text-align: right;\">\n",
              "      <th></th>\n",
              "      <th>Company</th>\n",
              "      <th>Product</th>\n",
              "      <th>TypeName</th>\n",
              "      <th>Inches</th>\n",
              "      <th>Ram</th>\n",
              "      <th>OS</th>\n",
              "      <th>Weight</th>\n",
              "      <th>Price_euros</th>\n",
              "      <th>Screen</th>\n",
              "      <th>ScreenW</th>\n",
              "      <th>...</th>\n",
              "      <th>RetinaDisplay</th>\n",
              "      <th>CPU_company</th>\n",
              "      <th>CPU_freq</th>\n",
              "      <th>CPU_model</th>\n",
              "      <th>PrimaryStorage</th>\n",
              "      <th>SecondaryStorage</th>\n",
              "      <th>PrimaryStorageType</th>\n",
              "      <th>SecondaryStorageType</th>\n",
              "      <th>GPU_company</th>\n",
              "      <th>GPU_model</th>\n",
              "    </tr>\n",
              "  </thead>\n",
              "  <tbody>\n",
              "    <tr>\n",
              "      <th>0</th>\n",
              "      <td>Apple</td>\n",
              "      <td>MacBook Pro</td>\n",
              "      <td>Ultrabook</td>\n",
              "      <td>13.3</td>\n",
              "      <td>8</td>\n",
              "      <td>macOS</td>\n",
              "      <td>1.37</td>\n",
              "      <td>1339.69</td>\n",
              "      <td>Standard</td>\n",
              "      <td>2560</td>\n",
              "      <td>...</td>\n",
              "      <td>Yes</td>\n",
              "      <td>Intel</td>\n",
              "      <td>2.3</td>\n",
              "      <td>Core i5</td>\n",
              "      <td>128</td>\n",
              "      <td>0</td>\n",
              "      <td>SSD</td>\n",
              "      <td>No</td>\n",
              "      <td>Intel</td>\n",
              "      <td>Iris Plus Graphics 640</td>\n",
              "    </tr>\n",
              "    <tr>\n",
              "      <th>1</th>\n",
              "      <td>Apple</td>\n",
              "      <td>Macbook Air</td>\n",
              "      <td>Ultrabook</td>\n",
              "      <td>13.3</td>\n",
              "      <td>8</td>\n",
              "      <td>macOS</td>\n",
              "      <td>1.34</td>\n",
              "      <td>898.94</td>\n",
              "      <td>Standard</td>\n",
              "      <td>1440</td>\n",
              "      <td>...</td>\n",
              "      <td>No</td>\n",
              "      <td>Intel</td>\n",
              "      <td>1.8</td>\n",
              "      <td>Core i5</td>\n",
              "      <td>128</td>\n",
              "      <td>0</td>\n",
              "      <td>Flash Storage</td>\n",
              "      <td>No</td>\n",
              "      <td>Intel</td>\n",
              "      <td>HD Graphics 6000</td>\n",
              "    </tr>\n",
              "    <tr>\n",
              "      <th>2</th>\n",
              "      <td>HP</td>\n",
              "      <td>250 G6</td>\n",
              "      <td>Notebook</td>\n",
              "      <td>15.6</td>\n",
              "      <td>8</td>\n",
              "      <td>No OS</td>\n",
              "      <td>1.86</td>\n",
              "      <td>575.00</td>\n",
              "      <td>Full HD</td>\n",
              "      <td>1920</td>\n",
              "      <td>...</td>\n",
              "      <td>No</td>\n",
              "      <td>Intel</td>\n",
              "      <td>2.5</td>\n",
              "      <td>Core i5 7200U</td>\n",
              "      <td>256</td>\n",
              "      <td>0</td>\n",
              "      <td>SSD</td>\n",
              "      <td>No</td>\n",
              "      <td>Intel</td>\n",
              "      <td>HD Graphics 620</td>\n",
              "    </tr>\n",
              "    <tr>\n",
              "      <th>3</th>\n",
              "      <td>Apple</td>\n",
              "      <td>MacBook Pro</td>\n",
              "      <td>Ultrabook</td>\n",
              "      <td>15.4</td>\n",
              "      <td>16</td>\n",
              "      <td>macOS</td>\n",
              "      <td>1.83</td>\n",
              "      <td>2537.45</td>\n",
              "      <td>Standard</td>\n",
              "      <td>2880</td>\n",
              "      <td>...</td>\n",
              "      <td>Yes</td>\n",
              "      <td>Intel</td>\n",
              "      <td>2.7</td>\n",
              "      <td>Core i7</td>\n",
              "      <td>512</td>\n",
              "      <td>0</td>\n",
              "      <td>SSD</td>\n",
              "      <td>No</td>\n",
              "      <td>AMD</td>\n",
              "      <td>Radeon Pro 455</td>\n",
              "    </tr>\n",
              "    <tr>\n",
              "      <th>4</th>\n",
              "      <td>Apple</td>\n",
              "      <td>MacBook Pro</td>\n",
              "      <td>Ultrabook</td>\n",
              "      <td>13.3</td>\n",
              "      <td>8</td>\n",
              "      <td>macOS</td>\n",
              "      <td>1.37</td>\n",
              "      <td>1803.60</td>\n",
              "      <td>Standard</td>\n",
              "      <td>2560</td>\n",
              "      <td>...</td>\n",
              "      <td>Yes</td>\n",
              "      <td>Intel</td>\n",
              "      <td>3.1</td>\n",
              "      <td>Core i5</td>\n",
              "      <td>256</td>\n",
              "      <td>0</td>\n",
              "      <td>SSD</td>\n",
              "      <td>No</td>\n",
              "      <td>Intel</td>\n",
              "      <td>Iris Plus Graphics 650</td>\n",
              "    </tr>\n",
              "  </tbody>\n",
              "</table>\n",
              "<p>5 rows × 23 columns</p>\n",
              "</div>"
            ],
            "text/plain": [
              "  Company      Product   TypeName  Inches  Ram     OS  Weight  Price_euros  \\\n",
              "0   Apple  MacBook Pro  Ultrabook    13.3    8  macOS    1.37      1339.69   \n",
              "1   Apple  Macbook Air  Ultrabook    13.3    8  macOS    1.34       898.94   \n",
              "2      HP       250 G6   Notebook    15.6    8  No OS    1.86       575.00   \n",
              "3   Apple  MacBook Pro  Ultrabook    15.4   16  macOS    1.83      2537.45   \n",
              "4   Apple  MacBook Pro  Ultrabook    13.3    8  macOS    1.37      1803.60   \n",
              "\n",
              "     Screen  ScreenW  ...  RetinaDisplay CPU_company CPU_freq      CPU_model  \\\n",
              "0  Standard     2560  ...            Yes       Intel      2.3        Core i5   \n",
              "1  Standard     1440  ...             No       Intel      1.8        Core i5   \n",
              "2   Full HD     1920  ...             No       Intel      2.5  Core i5 7200U   \n",
              "3  Standard     2880  ...            Yes       Intel      2.7        Core i7   \n",
              "4  Standard     2560  ...            Yes       Intel      3.1        Core i5   \n",
              "\n",
              "  PrimaryStorage  SecondaryStorage PrimaryStorageType  SecondaryStorageType  \\\n",
              "0            128                 0                SSD                    No   \n",
              "1            128                 0      Flash Storage                    No   \n",
              "2            256                 0                SSD                    No   \n",
              "3            512                 0                SSD                    No   \n",
              "4            256                 0                SSD                    No   \n",
              "\n",
              "   GPU_company               GPU_model  \n",
              "0        Intel  Iris Plus Graphics 640  \n",
              "1        Intel        HD Graphics 6000  \n",
              "2        Intel         HD Graphics 620  \n",
              "3          AMD          Radeon Pro 455  \n",
              "4        Intel  Iris Plus Graphics 650  \n",
              "\n",
              "[5 rows x 23 columns]"
            ]
          },
          "execution_count": 124,
          "metadata": {},
          "output_type": "execute_result"
        }
      ],
      "source": [
        "df = pd.DataFrame(pd.read_csv(r'C:\\Users\\snady\\.spyder-py3\\laptop_prices.csv'))\n",
        "df.head()"
      ]
    },
    {
      "cell_type": "markdown",
      "metadata": {
        "id": "BHqzOSYEhPmT"
      },
      "source": [
        "Чекаю инфу по датасету"
      ]
    },
    {
      "cell_type": "code",
      "execution_count": null,
      "metadata": {
        "id": "31_IRyi3hPmT",
        "outputId": "0d9f6746-50a6-438f-c996-965b89393283"
      },
      "outputs": [
        {
          "data": {
            "text/plain": [
              "(1275, 23)"
            ]
          },
          "execution_count": 125,
          "metadata": {},
          "output_type": "execute_result"
        }
      ],
      "source": [
        "df.shape\n"
      ]
    },
    {
      "cell_type": "code",
      "execution_count": null,
      "metadata": {
        "id": "v8XvGQfZhPmT",
        "outputId": "8508d975-987e-4f36-e236-ec0c489db02a"
      },
      "outputs": [
        {
          "name": "stdout",
          "output_type": "stream",
          "text": [
            "<class 'pandas.core.frame.DataFrame'>\n",
            "RangeIndex: 1275 entries, 0 to 1274\n",
            "Data columns (total 23 columns):\n",
            " #   Column                Non-Null Count  Dtype  \n",
            "---  ------                --------------  -----  \n",
            " 0   Company               1275 non-null   object \n",
            " 1   Product               1275 non-null   object \n",
            " 2   TypeName              1275 non-null   object \n",
            " 3   Inches                1275 non-null   float64\n",
            " 4   Ram                   1275 non-null   int64  \n",
            " 5   OS                    1275 non-null   object \n",
            " 6   Weight                1275 non-null   float64\n",
            " 7   Price_euros           1275 non-null   float64\n",
            " 8   Screen                1275 non-null   object \n",
            " 9   ScreenW               1275 non-null   int64  \n",
            " 10  ScreenH               1275 non-null   int64  \n",
            " 11  Touchscreen           1275 non-null   object \n",
            " 12  IPSpanel              1275 non-null   object \n",
            " 13  RetinaDisplay         1275 non-null   object \n",
            " 14  CPU_company           1275 non-null   object \n",
            " 15  CPU_freq              1275 non-null   float64\n",
            " 16  CPU_model             1275 non-null   object \n",
            " 17  PrimaryStorage        1275 non-null   int64  \n",
            " 18  SecondaryStorage      1275 non-null   int64  \n",
            " 19  PrimaryStorageType    1275 non-null   object \n",
            " 20  SecondaryStorageType  1275 non-null   object \n",
            " 21  GPU_company           1275 non-null   object \n",
            " 22  GPU_model             1275 non-null   object \n",
            "dtypes: float64(4), int64(5), object(14)\n",
            "memory usage: 229.2+ KB\n"
          ]
        }
      ],
      "source": [
        "df.info()\n"
      ]
    },
    {
      "cell_type": "code",
      "execution_count": null,
      "metadata": {
        "id": "JtxLqPaMhPmU",
        "outputId": "cf5da303-5fb1-4780-cb46-4ead1a047ab9"
      },
      "outputs": [
        {
          "data": {
            "text/html": [
              "<div>\n",
              "<style scoped>\n",
              "    .dataframe tbody tr th:only-of-type {\n",
              "        vertical-align: middle;\n",
              "    }\n",
              "\n",
              "    .dataframe tbody tr th {\n",
              "        vertical-align: top;\n",
              "    }\n",
              "\n",
              "    .dataframe thead th {\n",
              "        text-align: right;\n",
              "    }\n",
              "</style>\n",
              "<table border=\"1\" class=\"dataframe\">\n",
              "  <thead>\n",
              "    <tr style=\"text-align: right;\">\n",
              "      <th></th>\n",
              "      <th>Inches</th>\n",
              "      <th>Ram</th>\n",
              "      <th>Weight</th>\n",
              "      <th>Price_euros</th>\n",
              "      <th>ScreenW</th>\n",
              "      <th>ScreenH</th>\n",
              "      <th>CPU_freq</th>\n",
              "      <th>PrimaryStorage</th>\n",
              "      <th>SecondaryStorage</th>\n",
              "    </tr>\n",
              "  </thead>\n",
              "  <tbody>\n",
              "    <tr>\n",
              "      <th>count</th>\n",
              "      <td>1275.000000</td>\n",
              "      <td>1275.000000</td>\n",
              "      <td>1275.000000</td>\n",
              "      <td>1275.000000</td>\n",
              "      <td>1275.000000</td>\n",
              "      <td>1275.000000</td>\n",
              "      <td>1275.000000</td>\n",
              "      <td>1275.000000</td>\n",
              "      <td>1275.000000</td>\n",
              "    </tr>\n",
              "    <tr>\n",
              "      <th>mean</th>\n",
              "      <td>15.022902</td>\n",
              "      <td>8.440784</td>\n",
              "      <td>2.040525</td>\n",
              "      <td>1134.969059</td>\n",
              "      <td>1900.043922</td>\n",
              "      <td>1073.904314</td>\n",
              "      <td>2.302980</td>\n",
              "      <td>444.517647</td>\n",
              "      <td>176.069020</td>\n",
              "    </tr>\n",
              "    <tr>\n",
              "      <th>std</th>\n",
              "      <td>1.429470</td>\n",
              "      <td>5.097809</td>\n",
              "      <td>0.669196</td>\n",
              "      <td>700.752504</td>\n",
              "      <td>493.346186</td>\n",
              "      <td>283.883940</td>\n",
              "      <td>0.503846</td>\n",
              "      <td>365.537726</td>\n",
              "      <td>415.960655</td>\n",
              "    </tr>\n",
              "    <tr>\n",
              "      <th>min</th>\n",
              "      <td>10.100000</td>\n",
              "      <td>2.000000</td>\n",
              "      <td>0.690000</td>\n",
              "      <td>174.000000</td>\n",
              "      <td>1366.000000</td>\n",
              "      <td>768.000000</td>\n",
              "      <td>0.900000</td>\n",
              "      <td>8.000000</td>\n",
              "      <td>0.000000</td>\n",
              "    </tr>\n",
              "    <tr>\n",
              "      <th>25%</th>\n",
              "      <td>14.000000</td>\n",
              "      <td>4.000000</td>\n",
              "      <td>1.500000</td>\n",
              "      <td>609.000000</td>\n",
              "      <td>1920.000000</td>\n",
              "      <td>1080.000000</td>\n",
              "      <td>2.000000</td>\n",
              "      <td>256.000000</td>\n",
              "      <td>0.000000</td>\n",
              "    </tr>\n",
              "    <tr>\n",
              "      <th>50%</th>\n",
              "      <td>15.600000</td>\n",
              "      <td>8.000000</td>\n",
              "      <td>2.040000</td>\n",
              "      <td>989.000000</td>\n",
              "      <td>1920.000000</td>\n",
              "      <td>1080.000000</td>\n",
              "      <td>2.500000</td>\n",
              "      <td>256.000000</td>\n",
              "      <td>0.000000</td>\n",
              "    </tr>\n",
              "    <tr>\n",
              "      <th>75%</th>\n",
              "      <td>15.600000</td>\n",
              "      <td>8.000000</td>\n",
              "      <td>2.310000</td>\n",
              "      <td>1496.500000</td>\n",
              "      <td>1920.000000</td>\n",
              "      <td>1080.000000</td>\n",
              "      <td>2.700000</td>\n",
              "      <td>512.000000</td>\n",
              "      <td>0.000000</td>\n",
              "    </tr>\n",
              "    <tr>\n",
              "      <th>max</th>\n",
              "      <td>18.400000</td>\n",
              "      <td>64.000000</td>\n",
              "      <td>4.700000</td>\n",
              "      <td>6099.000000</td>\n",
              "      <td>3840.000000</td>\n",
              "      <td>2160.000000</td>\n",
              "      <td>3.600000</td>\n",
              "      <td>2048.000000</td>\n",
              "      <td>2048.000000</td>\n",
              "    </tr>\n",
              "  </tbody>\n",
              "</table>\n",
              "</div>"
            ],
            "text/plain": [
              "            Inches          Ram       Weight  Price_euros      ScreenW  \\\n",
              "count  1275.000000  1275.000000  1275.000000  1275.000000  1275.000000   \n",
              "mean     15.022902     8.440784     2.040525  1134.969059  1900.043922   \n",
              "std       1.429470     5.097809     0.669196   700.752504   493.346186   \n",
              "min      10.100000     2.000000     0.690000   174.000000  1366.000000   \n",
              "25%      14.000000     4.000000     1.500000   609.000000  1920.000000   \n",
              "50%      15.600000     8.000000     2.040000   989.000000  1920.000000   \n",
              "75%      15.600000     8.000000     2.310000  1496.500000  1920.000000   \n",
              "max      18.400000    64.000000     4.700000  6099.000000  3840.000000   \n",
              "\n",
              "           ScreenH     CPU_freq  PrimaryStorage  SecondaryStorage  \n",
              "count  1275.000000  1275.000000     1275.000000       1275.000000  \n",
              "mean   1073.904314     2.302980      444.517647        176.069020  \n",
              "std     283.883940     0.503846      365.537726        415.960655  \n",
              "min     768.000000     0.900000        8.000000          0.000000  \n",
              "25%    1080.000000     2.000000      256.000000          0.000000  \n",
              "50%    1080.000000     2.500000      256.000000          0.000000  \n",
              "75%    1080.000000     2.700000      512.000000          0.000000  \n",
              "max    2160.000000     3.600000     2048.000000       2048.000000  "
            ]
          },
          "execution_count": 127,
          "metadata": {},
          "output_type": "execute_result"
        }
      ],
      "source": [
        "df.describe()"
      ]
    },
    {
      "cell_type": "markdown",
      "metadata": {
        "id": "JINbCFnghPmU"
      },
      "source": [
        "Заполняю пропуски"
      ]
    },
    {
      "cell_type": "code",
      "execution_count": null,
      "metadata": {
        "id": "dMTyErMzhPmU",
        "outputId": "063b6605-41dc-4031-d022-8a7d56d45956"
      },
      "outputs": [
        {
          "data": {
            "text/plain": [
              "0"
            ]
          },
          "execution_count": 128,
          "metadata": {},
          "output_type": "execute_result"
        }
      ],
      "source": [
        "# Проверяем на дупликаты\n",
        "df.duplicated().sum()"
      ]
    },
    {
      "cell_type": "code",
      "execution_count": null,
      "metadata": {
        "id": "1aHWg-FvhPmU",
        "outputId": "de205743-bdc1-458b-d1a2-8b67e46a9ae1"
      },
      "outputs": [
        {
          "name": "stdout",
          "output_type": "stream",
          "text": [
            "Series([], dtype: int64)\n"
          ]
        }
      ],
      "source": [
        "null_d = df.isnull().sum()\n",
        "print(null_d[null_d>0])"
      ]
    },
    {
      "cell_type": "markdown",
      "metadata": {
        "id": "keo2HMX0hPmU"
      },
      "source": [
        "Пропусков нет"
      ]
    },
    {
      "cell_type": "markdown",
      "metadata": {
        "id": "9xGifOARhPmU"
      },
      "source": [
        "Преобразовываю категориальные признаки к типу bool"
      ]
    },
    {
      "cell_type": "code",
      "execution_count": null,
      "metadata": {
        "id": "wM95g87xhPmU"
      },
      "outputs": [],
      "source": [
        "from sklearn.model_selection import train_test_split\n",
        "x_train, x_test, y_train, y_test = train_test_split(X,y, train_size=0.8, random_state=43, shuffle=True)\n",
        "\n",
        "\n"
      ]
    },
    {
      "cell_type": "code",
      "execution_count": null,
      "metadata": {
        "id": "ZGeNtho5hPmU",
        "outputId": "332280a3-1a9d-41c3-a697-89ee21abc785"
      },
      "outputs": [
        {
          "data": {
            "text/plain": [
              "array([[-1.16072458, -0.06686103, -0.88996785, ..., -0.03132657,\n",
              "        -0.07018624, -0.23643312],\n",
              "       [ 0.30909426, -0.06686103,  0.54637267, ..., -0.03132657,\n",
              "        -0.07018624, -0.23643312],\n",
              "       [ 0.30909426, -0.06686103,  0.54637267, ..., -0.03132657,\n",
              "        -0.07018624, -0.23643312],\n",
              "       ...,\n",
              "       [ 1.77891309,  1.50997709,  0.54637267, ..., -0.03132657,\n",
              "        -0.07018624, -0.23643312],\n",
              "       [ 0.30909426, -0.06686103,  0.54637267, ..., -0.03132657,\n",
              "        -0.07018624, -0.23643312],\n",
              "       [-1.16072458, -0.06686103, -0.88996785, ..., -0.03132657,\n",
              "        -0.07018624,  4.22952585]])"
            ]
          },
          "execution_count": 141,
          "metadata": {},
          "output_type": "execute_result"
        }
      ],
      "source": [
        "from sklearn.preprocessing import StandardScaler\n",
        "scaler = StandardScaler()\n",
        "\n",
        "\n",
        "x_train_scaled = scaler.fit_transform(x_train)\n",
        "x_test_scaled = scaler.transform(x_test)\n"
      ]
    },
    {
      "cell_type": "markdown",
      "metadata": {
        "id": "hfZhh0RohPmV"
      },
      "source": [
        "Теперь имею числовые признаки"
      ]
    },
    {
      "cell_type": "markdown",
      "metadata": {
        "id": "qPbdMlwbhPmV"
      },
      "source": [
        "Проверяю уникальные значения, отличные от целевой переменной = 'Price_euros'\n"
      ]
    },
    {
      "cell_type": "code",
      "execution_count": null,
      "metadata": {
        "id": "H22Zuf6khPmV",
        "outputId": "5bb41947-c76a-4bf5-e58c-59674d4b4a01"
      },
      "outputs": [
        {
          "name": "stdout",
          "output_type": "stream",
          "text": [
            "Company 19\n",
            "Product 618\n",
            "TypeName 6\n",
            "Inches 18\n",
            "Ram 9\n",
            "OS 9\n",
            "Weight 171\n",
            "Price_euros 791\n",
            "Screen 4\n",
            "ScreenW 13\n",
            "ScreenH 10\n",
            "Touchscreen 2\n",
            "IPSpanel 2\n",
            "RetinaDisplay 2\n",
            "CPU_company 3\n",
            "CPU_freq 25\n",
            "CPU_model 93\n",
            "PrimaryStorage 13\n",
            "SecondaryStorage 6\n",
            "PrimaryStorageType 4\n",
            "SecondaryStorageType 4\n",
            "GPU_company 4\n",
            "GPU_model 110\n"
          ]
        }
      ],
      "source": [
        "for i in df.columns:\n",
        "    print(i, df[i].nunique())"
      ]
    },
    {
      "cell_type": "code",
      "execution_count": null,
      "metadata": {
        "id": "fl3NbW_whPmV",
        "outputId": "a6992964-c8af-4a38-df32-7abcee424811"
      },
      "outputs": [
        {
          "data": {
            "text/plain": [
              "(1275, 23)"
            ]
          },
          "execution_count": 143,
          "metadata": {},
          "output_type": "execute_result"
        }
      ],
      "source": [
        "df.shape"
      ]
    },
    {
      "cell_type": "markdown",
      "metadata": {
        "id": "zkTPVuzphPmV"
      },
      "source": [
        "Можно заметить, что у меня нет на 100% уникальных значений в датасете, а также значений, приближенных к макимальным, следовательно замена значений на mean() приведет к высокому значению функции потерь, следовательно принимаю решение оставить значения без изменений"
      ]
    },
    {
      "cell_type": "markdown",
      "source": [],
      "metadata": {
        "id": "UBFS-vxzmevq"
      }
    },
    {
      "cell_type": "markdown",
      "metadata": {
        "id": "7zE7AkfihPmV"
      },
      "source": [
        "Масштабирую данные со средним нулевым значением"
      ]
    },
    {
      "cell_type": "markdown",
      "metadata": {
        "id": "1dYCN2bYhPmV"
      },
      "source": [
        "Разделю данные на x и y, чтобы разделить на train и test выборки, где x - df без целевой переменной, а y - целевая переменная"
      ]
    },
    {
      "cell_type": "code",
      "source": [
        "#ЗАДАНИЕ №2"
      ],
      "metadata": {
        "id": "tDQsnIC3kRKX"
      },
      "execution_count": null,
      "outputs": []
    },
    {
      "cell_type": "markdown",
      "metadata": {
        "id": "4H8EmvQZhPmV"
      },
      "source": [
        "Делю на выборки"
      ]
    },
    {
      "cell_type": "markdown",
      "metadata": {
        "id": "Zm7qzuYVhPmV"
      },
      "source": [
        "Обучаю модель"
      ]
    },
    {
      "cell_type": "code",
      "execution_count": null,
      "metadata": {
        "id": "qmsrXEt9hPmV",
        "outputId": "b84ee9e4-4084-461f-91b9-51a7f70cdd6d"
      },
      "outputs": [
        {
          "data": {
            "text/html": [
              "<style>#sk-container-id-11 {\n",
              "  /* Definition of color scheme common for light and dark mode */\n",
              "  --sklearn-color-text: black;\n",
              "  --sklearn-color-line: gray;\n",
              "  /* Definition of color scheme for unfitted estimators */\n",
              "  --sklearn-color-unfitted-level-0: #fff5e6;\n",
              "  --sklearn-color-unfitted-level-1: #f6e4d2;\n",
              "  --sklearn-color-unfitted-level-2: #ffe0b3;\n",
              "  --sklearn-color-unfitted-level-3: chocolate;\n",
              "  /* Definition of color scheme for fitted estimators */\n",
              "  --sklearn-color-fitted-level-0: #f0f8ff;\n",
              "  --sklearn-color-fitted-level-1: #d4ebff;\n",
              "  --sklearn-color-fitted-level-2: #b3dbfd;\n",
              "  --sklearn-color-fitted-level-3: cornflowerblue;\n",
              "\n",
              "  /* Specific color for light theme */\n",
              "  --sklearn-color-text-on-default-background: var(--sg-text-color, var(--theme-code-foreground, var(--jp-content-font-color1, black)));\n",
              "  --sklearn-color-background: var(--sg-background-color, var(--theme-background, var(--jp-layout-color0, white)));\n",
              "  --sklearn-color-border-box: var(--sg-text-color, var(--theme-code-foreground, var(--jp-content-font-color1, black)));\n",
              "  --sklearn-color-icon: #696969;\n",
              "\n",
              "  @media (prefers-color-scheme: dark) {\n",
              "    /* Redefinition of color scheme for dark theme */\n",
              "    --sklearn-color-text-on-default-background: var(--sg-text-color, var(--theme-code-foreground, var(--jp-content-font-color1, white)));\n",
              "    --sklearn-color-background: var(--sg-background-color, var(--theme-background, var(--jp-layout-color0, #111)));\n",
              "    --sklearn-color-border-box: var(--sg-text-color, var(--theme-code-foreground, var(--jp-content-font-color1, white)));\n",
              "    --sklearn-color-icon: #878787;\n",
              "  }\n",
              "}\n",
              "\n",
              "#sk-container-id-11 {\n",
              "  color: var(--sklearn-color-text);\n",
              "}\n",
              "\n",
              "#sk-container-id-11 pre {\n",
              "  padding: 0;\n",
              "}\n",
              "\n",
              "#sk-container-id-11 input.sk-hidden--visually {\n",
              "  border: 0;\n",
              "  clip: rect(1px 1px 1px 1px);\n",
              "  clip: rect(1px, 1px, 1px, 1px);\n",
              "  height: 1px;\n",
              "  margin: -1px;\n",
              "  overflow: hidden;\n",
              "  padding: 0;\n",
              "  position: absolute;\n",
              "  width: 1px;\n",
              "}\n",
              "\n",
              "#sk-container-id-11 div.sk-dashed-wrapped {\n",
              "  border: 1px dashed var(--sklearn-color-line);\n",
              "  margin: 0 0.4em 0.5em 0.4em;\n",
              "  box-sizing: border-box;\n",
              "  padding-bottom: 0.4em;\n",
              "  background-color: var(--sklearn-color-background);\n",
              "}\n",
              "\n",
              "#sk-container-id-11 div.sk-container {\n",
              "  /* jupyter's `normalize.less` sets `[hidden] { display: none; }`\n",
              "     but bootstrap.min.css set `[hidden] { display: none !important; }`\n",
              "     so we also need the `!important` here to be able to override the\n",
              "     default hidden behavior on the sphinx rendered scikit-learn.org.\n",
              "     See: https://github.com/scikit-learn/scikit-learn/issues/21755 */\n",
              "  display: inline-block !important;\n",
              "  position: relative;\n",
              "}\n",
              "\n",
              "#sk-container-id-11 div.sk-text-repr-fallback {\n",
              "  display: none;\n",
              "}\n",
              "\n",
              "div.sk-parallel-item,\n",
              "div.sk-serial,\n",
              "div.sk-item {\n",
              "  /* draw centered vertical line to link estimators */\n",
              "  background-image: linear-gradient(var(--sklearn-color-text-on-default-background), var(--sklearn-color-text-on-default-background));\n",
              "  background-size: 2px 100%;\n",
              "  background-repeat: no-repeat;\n",
              "  background-position: center center;\n",
              "}\n",
              "\n",
              "/* Parallel-specific style estimator block */\n",
              "\n",
              "#sk-container-id-11 div.sk-parallel-item::after {\n",
              "  content: \"\";\n",
              "  width: 100%;\n",
              "  border-bottom: 2px solid var(--sklearn-color-text-on-default-background);\n",
              "  flex-grow: 1;\n",
              "}\n",
              "\n",
              "#sk-container-id-11 div.sk-parallel {\n",
              "  display: flex;\n",
              "  align-items: stretch;\n",
              "  justify-content: center;\n",
              "  background-color: var(--sklearn-color-background);\n",
              "  position: relative;\n",
              "}\n",
              "\n",
              "#sk-container-id-11 div.sk-parallel-item {\n",
              "  display: flex;\n",
              "  flex-direction: column;\n",
              "}\n",
              "\n",
              "#sk-container-id-11 div.sk-parallel-item:first-child::after {\n",
              "  align-self: flex-end;\n",
              "  width: 50%;\n",
              "}\n",
              "\n",
              "#sk-container-id-11 div.sk-parallel-item:last-child::after {\n",
              "  align-self: flex-start;\n",
              "  width: 50%;\n",
              "}\n",
              "\n",
              "#sk-container-id-11 div.sk-parallel-item:only-child::after {\n",
              "  width: 0;\n",
              "}\n",
              "\n",
              "/* Serial-specific style estimator block */\n",
              "\n",
              "#sk-container-id-11 div.sk-serial {\n",
              "  display: flex;\n",
              "  flex-direction: column;\n",
              "  align-items: center;\n",
              "  background-color: var(--sklearn-color-background);\n",
              "  padding-right: 1em;\n",
              "  padding-left: 1em;\n",
              "}\n",
              "\n",
              "\n",
              "/* Toggleable style: style used for estimator/Pipeline/ColumnTransformer box that is\n",
              "clickable and can be expanded/collapsed.\n",
              "- Pipeline and ColumnTransformer use this feature and define the default style\n",
              "- Estimators will overwrite some part of the style using the `sk-estimator` class\n",
              "*/\n",
              "\n",
              "/* Pipeline and ColumnTransformer style (default) */\n",
              "\n",
              "#sk-container-id-11 div.sk-toggleable {\n",
              "  /* Default theme specific background. It is overwritten whether we have a\n",
              "  specific estimator or a Pipeline/ColumnTransformer */\n",
              "  background-color: var(--sklearn-color-background);\n",
              "}\n",
              "\n",
              "/* Toggleable label */\n",
              "#sk-container-id-11 label.sk-toggleable__label {\n",
              "  cursor: pointer;\n",
              "  display: block;\n",
              "  width: 100%;\n",
              "  margin-bottom: 0;\n",
              "  padding: 0.5em;\n",
              "  box-sizing: border-box;\n",
              "  text-align: center;\n",
              "}\n",
              "\n",
              "#sk-container-id-11 label.sk-toggleable__label-arrow:before {\n",
              "  /* Arrow on the left of the label */\n",
              "  content: \"▸\";\n",
              "  float: left;\n",
              "  margin-right: 0.25em;\n",
              "  color: var(--sklearn-color-icon);\n",
              "}\n",
              "\n",
              "#sk-container-id-11 label.sk-toggleable__label-arrow:hover:before {\n",
              "  color: var(--sklearn-color-text);\n",
              "}\n",
              "\n",
              "/* Toggleable content - dropdown */\n",
              "\n",
              "#sk-container-id-11 div.sk-toggleable__content {\n",
              "  max-height: 0;\n",
              "  max-width: 0;\n",
              "  overflow: hidden;\n",
              "  text-align: left;\n",
              "  /* unfitted */\n",
              "  background-color: var(--sklearn-color-unfitted-level-0);\n",
              "}\n",
              "\n",
              "#sk-container-id-11 div.sk-toggleable__content.fitted {\n",
              "  /* fitted */\n",
              "  background-color: var(--sklearn-color-fitted-level-0);\n",
              "}\n",
              "\n",
              "#sk-container-id-11 div.sk-toggleable__content pre {\n",
              "  margin: 0.2em;\n",
              "  border-radius: 0.25em;\n",
              "  color: var(--sklearn-color-text);\n",
              "  /* unfitted */\n",
              "  background-color: var(--sklearn-color-unfitted-level-0);\n",
              "}\n",
              "\n",
              "#sk-container-id-11 div.sk-toggleable__content.fitted pre {\n",
              "  /* unfitted */\n",
              "  background-color: var(--sklearn-color-fitted-level-0);\n",
              "}\n",
              "\n",
              "#sk-container-id-11 input.sk-toggleable__control:checked~div.sk-toggleable__content {\n",
              "  /* Expand drop-down */\n",
              "  max-height: 200px;\n",
              "  max-width: 100%;\n",
              "  overflow: auto;\n",
              "}\n",
              "\n",
              "#sk-container-id-11 input.sk-toggleable__control:checked~label.sk-toggleable__label-arrow:before {\n",
              "  content: \"▾\";\n",
              "}\n",
              "\n",
              "/* Pipeline/ColumnTransformer-specific style */\n",
              "\n",
              "#sk-container-id-11 div.sk-label input.sk-toggleable__control:checked~label.sk-toggleable__label {\n",
              "  color: var(--sklearn-color-text);\n",
              "  background-color: var(--sklearn-color-unfitted-level-2);\n",
              "}\n",
              "\n",
              "#sk-container-id-11 div.sk-label.fitted input.sk-toggleable__control:checked~label.sk-toggleable__label {\n",
              "  background-color: var(--sklearn-color-fitted-level-2);\n",
              "}\n",
              "\n",
              "/* Estimator-specific style */\n",
              "\n",
              "/* Colorize estimator box */\n",
              "#sk-container-id-11 div.sk-estimator input.sk-toggleable__control:checked~label.sk-toggleable__label {\n",
              "  /* unfitted */\n",
              "  background-color: var(--sklearn-color-unfitted-level-2);\n",
              "}\n",
              "\n",
              "#sk-container-id-11 div.sk-estimator.fitted input.sk-toggleable__control:checked~label.sk-toggleable__label {\n",
              "  /* fitted */\n",
              "  background-color: var(--sklearn-color-fitted-level-2);\n",
              "}\n",
              "\n",
              "#sk-container-id-11 div.sk-label label.sk-toggleable__label,\n",
              "#sk-container-id-11 div.sk-label label {\n",
              "  /* The background is the default theme color */\n",
              "  color: var(--sklearn-color-text-on-default-background);\n",
              "}\n",
              "\n",
              "/* On hover, darken the color of the background */\n",
              "#sk-container-id-11 div.sk-label:hover label.sk-toggleable__label {\n",
              "  color: var(--sklearn-color-text);\n",
              "  background-color: var(--sklearn-color-unfitted-level-2);\n",
              "}\n",
              "\n",
              "/* Label box, darken color on hover, fitted */\n",
              "#sk-container-id-11 div.sk-label.fitted:hover label.sk-toggleable__label.fitted {\n",
              "  color: var(--sklearn-color-text);\n",
              "  background-color: var(--sklearn-color-fitted-level-2);\n",
              "}\n",
              "\n",
              "/* Estimator label */\n",
              "\n",
              "#sk-container-id-11 div.sk-label label {\n",
              "  font-family: monospace;\n",
              "  font-weight: bold;\n",
              "  display: inline-block;\n",
              "  line-height: 1.2em;\n",
              "}\n",
              "\n",
              "#sk-container-id-11 div.sk-label-container {\n",
              "  text-align: center;\n",
              "}\n",
              "\n",
              "/* Estimator-specific */\n",
              "#sk-container-id-11 div.sk-estimator {\n",
              "  font-family: monospace;\n",
              "  border: 1px dotted var(--sklearn-color-border-box);\n",
              "  border-radius: 0.25em;\n",
              "  box-sizing: border-box;\n",
              "  margin-bottom: 0.5em;\n",
              "  /* unfitted */\n",
              "  background-color: var(--sklearn-color-unfitted-level-0);\n",
              "}\n",
              "\n",
              "#sk-container-id-11 div.sk-estimator.fitted {\n",
              "  /* fitted */\n",
              "  background-color: var(--sklearn-color-fitted-level-0);\n",
              "}\n",
              "\n",
              "/* on hover */\n",
              "#sk-container-id-11 div.sk-estimator:hover {\n",
              "  /* unfitted */\n",
              "  background-color: var(--sklearn-color-unfitted-level-2);\n",
              "}\n",
              "\n",
              "#sk-container-id-11 div.sk-estimator.fitted:hover {\n",
              "  /* fitted */\n",
              "  background-color: var(--sklearn-color-fitted-level-2);\n",
              "}\n",
              "\n",
              "/* Specification for estimator info (e.g. \"i\" and \"?\") */\n",
              "\n",
              "/* Common style for \"i\" and \"?\" */\n",
              "\n",
              ".sk-estimator-doc-link,\n",
              "a:link.sk-estimator-doc-link,\n",
              "a:visited.sk-estimator-doc-link {\n",
              "  float: right;\n",
              "  font-size: smaller;\n",
              "  line-height: 1em;\n",
              "  font-family: monospace;\n",
              "  background-color: var(--sklearn-color-background);\n",
              "  border-radius: 1em;\n",
              "  height: 1em;\n",
              "  width: 1em;\n",
              "  text-decoration: none !important;\n",
              "  margin-left: 1ex;\n",
              "  /* unfitted */\n",
              "  border: var(--sklearn-color-unfitted-level-1) 1pt solid;\n",
              "  color: var(--sklearn-color-unfitted-level-1);\n",
              "}\n",
              "\n",
              ".sk-estimator-doc-link.fitted,\n",
              "a:link.sk-estimator-doc-link.fitted,\n",
              "a:visited.sk-estimator-doc-link.fitted {\n",
              "  /* fitted */\n",
              "  border: var(--sklearn-color-fitted-level-1) 1pt solid;\n",
              "  color: var(--sklearn-color-fitted-level-1);\n",
              "}\n",
              "\n",
              "/* On hover */\n",
              "div.sk-estimator:hover .sk-estimator-doc-link:hover,\n",
              ".sk-estimator-doc-link:hover,\n",
              "div.sk-label-container:hover .sk-estimator-doc-link:hover,\n",
              ".sk-estimator-doc-link:hover {\n",
              "  /* unfitted */\n",
              "  background-color: var(--sklearn-color-unfitted-level-3);\n",
              "  color: var(--sklearn-color-background);\n",
              "  text-decoration: none;\n",
              "}\n",
              "\n",
              "div.sk-estimator.fitted:hover .sk-estimator-doc-link.fitted:hover,\n",
              ".sk-estimator-doc-link.fitted:hover,\n",
              "div.sk-label-container:hover .sk-estimator-doc-link.fitted:hover,\n",
              ".sk-estimator-doc-link.fitted:hover {\n",
              "  /* fitted */\n",
              "  background-color: var(--sklearn-color-fitted-level-3);\n",
              "  color: var(--sklearn-color-background);\n",
              "  text-decoration: none;\n",
              "}\n",
              "\n",
              "/* Span, style for the box shown on hovering the info icon */\n",
              ".sk-estimator-doc-link span {\n",
              "  display: none;\n",
              "  z-index: 9999;\n",
              "  position: relative;\n",
              "  font-weight: normal;\n",
              "  right: .2ex;\n",
              "  padding: .5ex;\n",
              "  margin: .5ex;\n",
              "  width: min-content;\n",
              "  min-width: 20ex;\n",
              "  max-width: 50ex;\n",
              "  color: var(--sklearn-color-text);\n",
              "  box-shadow: 2pt 2pt 4pt #999;\n",
              "  /* unfitted */\n",
              "  background: var(--sklearn-color-unfitted-level-0);\n",
              "  border: .5pt solid var(--sklearn-color-unfitted-level-3);\n",
              "}\n",
              "\n",
              ".sk-estimator-doc-link.fitted span {\n",
              "  /* fitted */\n",
              "  background: var(--sklearn-color-fitted-level-0);\n",
              "  border: var(--sklearn-color-fitted-level-3);\n",
              "}\n",
              "\n",
              ".sk-estimator-doc-link:hover span {\n",
              "  display: block;\n",
              "}\n",
              "\n",
              "/* \"?\"-specific style due to the `<a>` HTML tag */\n",
              "\n",
              "#sk-container-id-11 a.estimator_doc_link {\n",
              "  float: right;\n",
              "  font-size: 1rem;\n",
              "  line-height: 1em;\n",
              "  font-family: monospace;\n",
              "  background-color: var(--sklearn-color-background);\n",
              "  border-radius: 1rem;\n",
              "  height: 1rem;\n",
              "  width: 1rem;\n",
              "  text-decoration: none;\n",
              "  /* unfitted */\n",
              "  color: var(--sklearn-color-unfitted-level-1);\n",
              "  border: var(--sklearn-color-unfitted-level-1) 1pt solid;\n",
              "}\n",
              "\n",
              "#sk-container-id-11 a.estimator_doc_link.fitted {\n",
              "  /* fitted */\n",
              "  border: var(--sklearn-color-fitted-level-1) 1pt solid;\n",
              "  color: var(--sklearn-color-fitted-level-1);\n",
              "}\n",
              "\n",
              "/* On hover */\n",
              "#sk-container-id-11 a.estimator_doc_link:hover {\n",
              "  /* unfitted */\n",
              "  background-color: var(--sklearn-color-unfitted-level-3);\n",
              "  color: var(--sklearn-color-background);\n",
              "  text-decoration: none;\n",
              "}\n",
              "\n",
              "#sk-container-id-11 a.estimator_doc_link.fitted:hover {\n",
              "  /* fitted */\n",
              "  background-color: var(--sklearn-color-fitted-level-3);\n",
              "}\n",
              "</style><div id=\"sk-container-id-11\" class=\"sk-top-container\"><div class=\"sk-text-repr-fallback\"><pre>SGDRegressor(random_state=20)</pre><b>In a Jupyter environment, please rerun this cell to show the HTML representation or trust the notebook. <br />On GitHub, the HTML representation is unable to render, please try loading this page with nbviewer.org.</b></div><div class=\"sk-container\" hidden><div class=\"sk-item\"><div class=\"sk-estimator fitted sk-toggleable\"><input class=\"sk-toggleable__control sk-hidden--visually\" id=\"sk-estimator-id-11\" type=\"checkbox\" checked><label for=\"sk-estimator-id-11\" class=\"sk-toggleable__label fitted sk-toggleable__label-arrow fitted\">&nbsp;&nbsp;SGDRegressor<a class=\"sk-estimator-doc-link fitted\" rel=\"noreferrer\" target=\"_blank\" href=\"https://scikit-learn.org/1.4/modules/generated/sklearn.linear_model.SGDRegressor.html\">?<span>Documentation for SGDRegressor</span></a><span class=\"sk-estimator-doc-link fitted\">i<span>Fitted</span></span></label><div class=\"sk-toggleable__content fitted\"><pre>SGDRegressor(random_state=20)</pre></div> </div></div></div></div>"
            ],
            "text/plain": [
              "SGDRegressor(random_state=20)"
            ]
          },
          "execution_count": 144,
          "metadata": {},
          "output_type": "execute_result"
        }
      ],
      "source": [
        "from sklearn.linear_model import SGDRegressor\n",
        "sgd_regressor = SGDRegressor(random_state=20)\n",
        "sgd_regressor.fit(x_train_scaled, y_train)"
      ]
    },
    {
      "cell_type": "markdown",
      "metadata": {
        "id": "c0rToV99hPmV"
      },
      "source": [
        "Создаю метрики"
      ]
    },
    {
      "cell_type": "code",
      "execution_count": null,
      "metadata": {
        "id": "jyk0rn1AhPmV",
        "outputId": "fa9d23b2-01d1-43c6-be44-a23a459e2651"
      },
      "outputs": [
        {
          "name": "stdout",
          "output_type": "stream",
          "text": [
            "R2 score = -1112697.11\n",
            "RMSE 808152.22\n"
          ]
        },
        {
          "name": "stderr",
          "output_type": "stream",
          "text": [
            "c:\\Users\\snady\\anaconda3\\Lib\\site-packages\\sklearn\\metrics\\_regression.py:483: FutureWarning: 'squared' is deprecated in version 1.4 and will be removed in 1.6. To calculate the root mean squared error, use the function'root_mean_squared_error'.\n",
            "  warnings.warn(\n"
          ]
        }
      ],
      "source": [
        "import numpy as np\n",
        "import matplotlib.pyplot as plt\n",
        "import seaborn as sbn\n",
        "from sklearn.linear_model import SGDRegressor\n",
        "from sklearn.metrics import mean_squared_error\n",
        "from sklearn.model_selection import train_test_split\n",
        "from sklearn.preprocessing import StandardScaler\n",
        "\n",
        "sgd_regressor = SGDRegressor(random_state=20)\n",
        "#Обучаю\n",
        "sgd_regressor.fit(x_train_scaled, y_train)\n",
        "\n",
        "#Получаю предсказанные значения\n",
        "y_pred_norm = sgd_regressor.predict(x_test_scaled)\n",
        "\n",
        "#Вычисляю r2 метрику\n",
        "r2_score = sgd_regressor.score(X=x_test_scaled, y = y_test)\n",
        "print(f\"R2 score = {r2_score:.2f}\")\n",
        "rmse = mean_squared_error(y_true=y_test, y_pred=y_pred_norm, squared=False)\n",
        "print(f\"RMSE {rmse:.2f}\")"
      ]
    },
    {
      "cell_type": "markdown",
      "metadata": {
        "id": "ECfNwigvhPmW"
      },
      "source": [
        "Делаю следующий вывод об обучении:"
      ]
    },
    {
      "cell_type": "markdown",
      "metadata": {
        "id": "LUvSB8_bhPmW"
      },
      "source": [
        "Полученные метрики указывают на крайне плохое качество модели:\n",
        "Значение R² получилось отрицательным и большим по модулю;\n",
        "RMSE — высокое.\n",
        "Из этого следует, что модель обучилась неправильно и всё вышло даже хуже, чем если бы она просто предсказывала ср. значение целевой переменной."
      ]
    },
    {
      "cell_type": "code",
      "source": [
        "#ЗАДАНИЕ №3"
      ],
      "metadata": {
        "id": "3_GxxUcik0E5"
      },
      "execution_count": null,
      "outputs": []
    },
    {
      "cell_type": "code",
      "execution_count": null,
      "metadata": {
        "id": "_KW7LWrwhPmW"
      },
      "outputs": [],
      "source": [
        "import pandas as pd\n",
        "import numpy as np\n",
        "import matplotlib.pyplot as plt\n",
        "from sklearn.model_selection import train_test_split\n",
        "from sklearn.linear_model import Lasso, Ridge, ElasticNet\n",
        "from sklearn.metrics import mean_squared_error, r2_score"
      ]
    },
    {
      "cell_type": "code",
      "execution_count": null,
      "metadata": {
        "id": "lZ8KTyYXhPmW",
        "outputId": "b10b7300-129e-4c33-efec-1eeb82a314fb"
      },
      "outputs": [
        {
          "name": "stderr",
          "output_type": "stream",
          "text": [
            "c:\\Users\\snady\\anaconda3\\Lib\\site-packages\\sklearn\\linear_model\\_coordinate_descent.py:678: ConvergenceWarning: Objective did not converge. You might want to increase the number of iterations, check the scale of the features or consider increasing regularisation. Duality gap: 2.706e+06, tolerance: 4.746e+04\n",
            "  model = cd_fast.enet_coordinate_descent(\n",
            "c:\\Users\\snady\\anaconda3\\Lib\\site-packages\\sklearn\\linear_model\\_coordinate_descent.py:678: ConvergenceWarning: Objective did not converge. You might want to increase the number of iterations, check the scale of the features or consider increasing regularisation. Duality gap: 2.055e+06, tolerance: 4.746e+04\n",
            "  model = cd_fast.enet_coordinate_descent(\n",
            "c:\\Users\\snady\\anaconda3\\Lib\\site-packages\\sklearn\\linear_model\\_coordinate_descent.py:678: ConvergenceWarning: Objective did not converge. You might want to increase the number of iterations, check the scale of the features or consider increasing regularisation. Duality gap: 5.200e+04, tolerance: 4.746e+04\n",
            "  model = cd_fast.enet_coordinate_descent(\n"
          ]
        },
        {
          "name": "stdout",
          "output_type": "stream",
          "text": [
            "         model  alpha  train_r2   test_r2  train_rmse   test_rmse\n",
            "0        Lasso   0.01  0.981843  0.785012   91.915399  355.231254\n",
            "1        Ridge   0.01  0.981853  0.782181   91.888565  357.562683\n",
            "2   ElasticNet   0.01  0.981591  0.800900   92.549545  341.853617\n",
            "3        Lasso   0.30  0.980882  0.808184   94.315864  335.541667\n",
            "4        Ridge   0.30  0.981849  0.784337   91.898781  355.789038\n",
            "5   ElasticNet   0.30  0.972994  0.822113  112.097262  323.129737\n",
            "6        Lasso   0.50  0.980109  0.814467   96.204392  330.000758\n",
            "7        Ridge   0.50  0.981843  0.785629   91.913359  354.721149\n",
            "8   ElasticNet   0.50  0.966508  0.819062  124.834738  325.889125\n",
            "9        Lasso   0.80  0.978688  0.823085   99.581055  322.245814\n",
            "10       Ridge   0.80  0.981832  0.787353   91.941923  353.292638\n",
            "11  ElasticNet   0.80  0.955854  0.812062  143.320016  332.132466\n"
          ]
        }
      ],
      "source": [
        "alphas = [0.01, 0.3, 0.5, 0.8]\n",
        "\n",
        "#Обучаю модель и вычисляю метрики\n",
        "results = []\n",
        "\n",
        "for alpha in alphas:\n",
        "    #Lasso (L1)\n",
        "    lasso = Lasso(alpha=alpha)\n",
        "    lasso.fit(x_train_scaled, y_train)\n",
        "    y_train_pred = lasso.predict(x_train_scaled)\n",
        "    y_test_pred = lasso.predict(x_test_scaled)\n",
        "    results.append({\n",
        "        'model': 'Lasso',\n",
        "        'alpha': alpha,\n",
        "        'train_r2': r2_score(y_train, y_train_pred),\n",
        "        'test_r2': r2_score(y_test, y_test_pred),\n",
        "        'train_rmse': np.sqrt(mean_squared_error(y_train, y_train_pred)),\n",
        "        'test_rmse': np.sqrt(mean_squared_error(y_test, y_test_pred))\n",
        "    })\n",
        "\n",
        "    #Ridge (L2)\n",
        "    ridge = Ridge(alpha=alpha)\n",
        "    ridge.fit(x_train_scaled, y_train)\n",
        "    y_train_pred = ridge.predict(x_train_scaled)\n",
        "    y_test_pred = ridge.predict(x_test_scaled)\n",
        "    results.append({\n",
        "        'model': 'Ridge',\n",
        "        'alpha': alpha,\n",
        "        'train_r2': r2_score(y_train, y_train_pred),\n",
        "        'test_r2': r2_score(y_test, y_test_pred),\n",
        "        'train_rmse': np.sqrt(mean_squared_error(y_train, y_train_pred)),\n",
        "        'test_rmse': np.sqrt(mean_squared_error(y_test, y_test_pred))\n",
        "    })\n",
        "\n",
        "    #ElasticNet (L1 + L2)\n",
        "    elastic_net = ElasticNet(alpha=alpha)\n",
        "    elastic_net.fit(x_train_scaled, y_train)\n",
        "    y_train_pred = elastic_net.predict(x_train_scaled)\n",
        "    y_test_pred = elastic_net.predict(x_test_scaled)\n",
        "    results.append({\n",
        "        'model': 'ElasticNet',\n",
        "        'alpha': alpha,\n",
        "        'train_r2': r2_score(y_train, y_train_pred),\n",
        "        'test_r2': r2_score(y_test, y_test_pred),\n",
        "        'train_rmse': np.sqrt(mean_squared_error(y_train, y_train_pred)),\n",
        "        'test_rmse': np.sqrt(mean_squared_error(y_test, y_test_pred))\n",
        "    })\n",
        "\n",
        "#Преобразую рез-ты в DF\n",
        "results_df = pd.DataFrame(results)\n",
        "\n",
        "print(results_df)"
      ]
    },
    {
      "cell_type": "code",
      "execution_count": null,
      "metadata": {
        "id": "onewEnavhPmW",
        "outputId": "d76cbbaf-ea0b-4ae5-c064-8b404657cbd3"
      },
      "outputs": [
        {
          "data": {
            "image/png": "[encoded data removed]",
            "text/plain": [
              "<Figure size 1400x600 with 2 Axes>"
            ]
          },
          "metadata": {},
          "output_type": "display_data"
        }
      ],
      "source": [
        "#Визуализация\n",
        "plt.figure(figsize=(14, 6))\n",
        "\n",
        "#График R²\n",
        "plt.subplot(1, 2, 1)\n",
        "for model in results_df['model'].unique():\n",
        "    subset = results_df[results_df['model'] == model]\n",
        "    plt.plot(subset['alpha'], subset['train_r2'], marker='o', label=f'Train {model}')\n",
        "    plt.plot(subset['alpha'], subset['test_r2'], marker='x', label=f'Test {model}', linestyle='--')\n",
        "\n",
        "plt.title('R² Score for Different Models')\n",
        "plt.xlabel('Alpha')\n",
        "plt.ylabel('R² Score')\n",
        "plt.xticks(alphas)\n",
        "plt.legend()\n",
        "plt.grid()\n",
        "\n",
        "#График RMSE\n",
        "plt.subplot(1, 2, 2)\n",
        "for model in results_df['model'].unique():\n",
        "    subset = results_df[results_df['model'] == model]\n",
        "    plt.plot(subset['alpha'], subset['train_rmse'], marker='o', label=f'Train RMSE {model}')\n",
        "    plt.plot(subset['alpha'], subset['test_rmse'], marker='x', label=f'Test RMSE {model}', linestyle='--')"
      ]
    },
    {
      "cell_type": "markdown",
      "metadata": {
        "id": "qMNUA9ychPmW"
      },
      "source": [
        "Делаю следующие выводы"
      ]
    },
    {
      "cell_type": "markdown",
      "metadata": {
        "id": "tapllRYThPmW"
      },
      "source": [
        "Lasso и ElasticNet показывали лучшие рез-ты на тествыборке по сравнению с Ridge, лучше заметно это на значениях alpha = 0.30 и alpha = 0.80.\n",
        "ElasticNet может быть предпочтительным, а именно при alpha = 0.30.\n",
        "Все модели показали хороший уровень подгонки."
      ]
    },
    {
      "cell_type": "code",
      "source": [
        "#ЗАДАНИЕ №4"
      ],
      "metadata": {
        "id": "8IHa8NhIlVdl"
      },
      "execution_count": null,
      "outputs": []
    },
    {
      "cell_type": "markdown",
      "metadata": {
        "id": "8K2sY5F-hPmW"
      },
      "source": [
        "Беру параметр alpha = 0.30"
      ]
    },
    {
      "cell_type": "code",
      "execution_count": null,
      "metadata": {
        "id": "Z29wd1khhPmW",
        "outputId": "7a32c323-c813-4603-e499-77519d9da807"
      },
      "outputs": [
        {
          "data": {
            "text/html": [
              "<div>\n",
              "<style scoped>\n",
              "    .dataframe tbody tr th:only-of-type {\n",
              "        vertical-align: middle;\n",
              "    }\n",
              "\n",
              "    .dataframe tbody tr th {\n",
              "        vertical-align: top;\n",
              "    }\n",
              "\n",
              "    .dataframe thead th {\n",
              "        text-align: right;\n",
              "    }\n",
              "</style>\n",
              "<table border=\"1\" class=\"dataframe\">\n",
              "  <thead>\n",
              "    <tr style=\"text-align: right;\">\n",
              "      <th></th>\n",
              "      <th>Company</th>\n",
              "      <th>Product</th>\n",
              "      <th>TypeName</th>\n",
              "      <th>Inches</th>\n",
              "      <th>Ram</th>\n",
              "      <th>OS</th>\n",
              "      <th>Weight</th>\n",
              "      <th>Price_euros</th>\n",
              "      <th>Screen</th>\n",
              "      <th>ScreenW</th>\n",
              "      <th>...</th>\n",
              "      <th>RetinaDisplay</th>\n",
              "      <th>CPU_company</th>\n",
              "      <th>CPU_freq</th>\n",
              "      <th>CPU_model</th>\n",
              "      <th>PrimaryStorage</th>\n",
              "      <th>SecondaryStorage</th>\n",
              "      <th>PrimaryStorageType</th>\n",
              "      <th>SecondaryStorageType</th>\n",
              "      <th>GPU_company</th>\n",
              "      <th>GPU_model</th>\n",
              "    </tr>\n",
              "  </thead>\n",
              "  <tbody>\n",
              "    <tr>\n",
              "      <th>0</th>\n",
              "      <td>Apple</td>\n",
              "      <td>MacBook Pro</td>\n",
              "      <td>Ultrabook</td>\n",
              "      <td>13.3</td>\n",
              "      <td>8</td>\n",
              "      <td>macOS</td>\n",
              "      <td>1.37</td>\n",
              "      <td>1339.69</td>\n",
              "      <td>Standard</td>\n",
              "      <td>2560</td>\n",
              "      <td>...</td>\n",
              "      <td>Yes</td>\n",
              "      <td>Intel</td>\n",
              "      <td>2.3</td>\n",
              "      <td>Core i5</td>\n",
              "      <td>128</td>\n",
              "      <td>0</td>\n",
              "      <td>SSD</td>\n",
              "      <td>No</td>\n",
              "      <td>Intel</td>\n",
              "      <td>Iris Plus Graphics 640</td>\n",
              "    </tr>\n",
              "    <tr>\n",
              "      <th>1</th>\n",
              "      <td>Apple</td>\n",
              "      <td>Macbook Air</td>\n",
              "      <td>Ultrabook</td>\n",
              "      <td>13.3</td>\n",
              "      <td>8</td>\n",
              "      <td>macOS</td>\n",
              "      <td>1.34</td>\n",
              "      <td>898.94</td>\n",
              "      <td>Standard</td>\n",
              "      <td>1440</td>\n",
              "      <td>...</td>\n",
              "      <td>No</td>\n",
              "      <td>Intel</td>\n",
              "      <td>1.8</td>\n",
              "      <td>Core i5</td>\n",
              "      <td>128</td>\n",
              "      <td>0</td>\n",
              "      <td>Flash Storage</td>\n",
              "      <td>No</td>\n",
              "      <td>Intel</td>\n",
              "      <td>HD Graphics 6000</td>\n",
              "    </tr>\n",
              "    <tr>\n",
              "      <th>2</th>\n",
              "      <td>HP</td>\n",
              "      <td>250 G6</td>\n",
              "      <td>Notebook</td>\n",
              "      <td>15.6</td>\n",
              "      <td>8</td>\n",
              "      <td>No OS</td>\n",
              "      <td>1.86</td>\n",
              "      <td>575.00</td>\n",
              "      <td>Full HD</td>\n",
              "      <td>1920</td>\n",
              "      <td>...</td>\n",
              "      <td>No</td>\n",
              "      <td>Intel</td>\n",
              "      <td>2.5</td>\n",
              "      <td>Core i5 7200U</td>\n",
              "      <td>256</td>\n",
              "      <td>0</td>\n",
              "      <td>SSD</td>\n",
              "      <td>No</td>\n",
              "      <td>Intel</td>\n",
              "      <td>HD Graphics 620</td>\n",
              "    </tr>\n",
              "    <tr>\n",
              "      <th>3</th>\n",
              "      <td>Apple</td>\n",
              "      <td>MacBook Pro</td>\n",
              "      <td>Ultrabook</td>\n",
              "      <td>15.4</td>\n",
              "      <td>16</td>\n",
              "      <td>macOS</td>\n",
              "      <td>1.83</td>\n",
              "      <td>2537.45</td>\n",
              "      <td>Standard</td>\n",
              "      <td>2880</td>\n",
              "      <td>...</td>\n",
              "      <td>Yes</td>\n",
              "      <td>Intel</td>\n",
              "      <td>2.7</td>\n",
              "      <td>Core i7</td>\n",
              "      <td>512</td>\n",
              "      <td>0</td>\n",
              "      <td>SSD</td>\n",
              "      <td>No</td>\n",
              "      <td>AMD</td>\n",
              "      <td>Radeon Pro 455</td>\n",
              "    </tr>\n",
              "    <tr>\n",
              "      <th>4</th>\n",
              "      <td>Apple</td>\n",
              "      <td>MacBook Pro</td>\n",
              "      <td>Ultrabook</td>\n",
              "      <td>13.3</td>\n",
              "      <td>8</td>\n",
              "      <td>macOS</td>\n",
              "      <td>1.37</td>\n",
              "      <td>1803.60</td>\n",
              "      <td>Standard</td>\n",
              "      <td>2560</td>\n",
              "      <td>...</td>\n",
              "      <td>Yes</td>\n",
              "      <td>Intel</td>\n",
              "      <td>3.1</td>\n",
              "      <td>Core i5</td>\n",
              "      <td>256</td>\n",
              "      <td>0</td>\n",
              "      <td>SSD</td>\n",
              "      <td>No</td>\n",
              "      <td>Intel</td>\n",
              "      <td>Iris Plus Graphics 650</td>\n",
              "    </tr>\n",
              "  </tbody>\n",
              "</table>\n",
              "<p>5 rows × 23 columns</p>\n",
              "</div>"
            ],
            "text/plain": [
              "  Company      Product   TypeName  Inches  Ram     OS  Weight  Price_euros  \\\n",
              "0   Apple  MacBook Pro  Ultrabook    13.3    8  macOS    1.37      1339.69   \n",
              "1   Apple  Macbook Air  Ultrabook    13.3    8  macOS    1.34       898.94   \n",
              "2      HP       250 G6   Notebook    15.6    8  No OS    1.86       575.00   \n",
              "3   Apple  MacBook Pro  Ultrabook    15.4   16  macOS    1.83      2537.45   \n",
              "4   Apple  MacBook Pro  Ultrabook    13.3    8  macOS    1.37      1803.60   \n",
              "\n",
              "     Screen  ScreenW  ...  RetinaDisplay CPU_company CPU_freq      CPU_model  \\\n",
              "0  Standard     2560  ...            Yes       Intel      2.3        Core i5   \n",
              "1  Standard     1440  ...             No       Intel      1.8        Core i5   \n",
              "2   Full HD     1920  ...             No       Intel      2.5  Core i5 7200U   \n",
              "3  Standard     2880  ...            Yes       Intel      2.7        Core i7   \n",
              "4  Standard     2560  ...            Yes       Intel      3.1        Core i5   \n",
              "\n",
              "  PrimaryStorage  SecondaryStorage PrimaryStorageType  SecondaryStorageType  \\\n",
              "0            128                 0                SSD                    No   \n",
              "1            128                 0      Flash Storage                    No   \n",
              "2            256                 0                SSD                    No   \n",
              "3            512                 0                SSD                    No   \n",
              "4            256                 0                SSD                    No   \n",
              "\n",
              "   GPU_company               GPU_model  \n",
              "0        Intel  Iris Plus Graphics 640  \n",
              "1        Intel        HD Graphics 6000  \n",
              "2        Intel         HD Graphics 620  \n",
              "3          AMD          Radeon Pro 455  \n",
              "4        Intel  Iris Plus Graphics 650  \n",
              "\n",
              "[5 rows x 23 columns]"
            ]
          },
          "execution_count": 156,
          "metadata": {},
          "output_type": "execute_result"
        }
      ],
      "source": [
        "df = pd.DataFrame(pd.read_csv(r'C:\\Users\\snady\\.spyder-py3\\laptop_prices.csv'))\n",
        "df.head()"
      ]
    },
    {
      "cell_type": "code",
      "execution_count": null,
      "metadata": {
        "id": "9A2YOVu3hPmZ"
      },
      "outputs": [],
      "source": [
        "from sklearn.model_selection import train_test_split\n",
        "x_train, x_test, y_train, y_test = train_test_split(X,y, train_size=0.8, random_state=43, shuffle=True)"
      ]
    },
    {
      "cell_type": "code",
      "execution_count": null,
      "metadata": {
        "id": "nrD55fQnhPma"
      },
      "outputs": [],
      "source": [
        "from sklearn.preprocessing import StandardScaler\n",
        "scaler = StandardScaler()\n",
        "\n",
        "\n",
        "x_train_scaled = scaler.fit_transform(x_train)\n",
        "x_test_scaled = scaler.transform(x_test)"
      ]
    },
    {
      "cell_type": "code",
      "execution_count": null,
      "metadata": {
        "id": "Rpatjl_QhPma",
        "outputId": "ed55bbc7-fdaa-415b-86fe-77eb101df4a2"
      },
      "outputs": [
        {
          "name": "stderr",
          "output_type": "stream",
          "text": [
            "c:\\Users\\snady\\anaconda3\\Lib\\site-packages\\sklearn\\linear_model\\_coordinate_descent.py:678: ConvergenceWarning: Objective did not converge. You might want to increase the number of iterations, check the scale of the features or consider increasing regularisation. Duality gap: 4.792e+05, tolerance: 4.746e+04\n",
            "  model = cd_fast.enet_coordinate_descent(\n",
            "c:\\Users\\snady\\anaconda3\\Lib\\site-packages\\sklearn\\base.py:486: UserWarning: X has feature names, but ElasticNet was fitted without feature names\n",
            "  warnings.warn(\n",
            "c:\\Users\\snady\\anaconda3\\Lib\\site-packages\\sklearn\\base.py:486: UserWarning: X has feature names, but ElasticNet was fitted without feature names\n",
            "  warnings.warn(\n"
          ]
        },
        {
          "name": "stdout",
          "output_type": "stream",
          "text": [
            "   max_iter  train_r2   test_r2  train_rmse   test_rmse\n",
            "0       100  0.972993  0.816221  112.098236  328.437641\n",
            "1       500  0.972994  0.816219  112.097262  328.438786\n",
            "2      1000  0.972994  0.816219  112.097262  328.438786\n",
            "3      2000  0.972994  0.816219  112.097262  328.438786\n"
          ]
        },
        {
          "name": "stderr",
          "output_type": "stream",
          "text": [
            "c:\\Users\\snady\\anaconda3\\Lib\\site-packages\\sklearn\\base.py:486: UserWarning: X has feature names, but ElasticNet was fitted without feature names\n",
            "  warnings.warn(\n",
            "c:\\Users\\snady\\anaconda3\\Lib\\site-packages\\sklearn\\base.py:486: UserWarning: X has feature names, but ElasticNet was fitted without feature names\n",
            "  warnings.warn(\n"
          ]
        }
      ],
      "source": [
        "alpha = 0.30\n",
        "\n",
        "#Обучаю модели с разным кол-вом итераций\n",
        "iterations = [100, 500, 1000, 2000]\n",
        "results = []\n",
        "\n",
        "for max_iter in iterations:\n",
        "    #ElasticNet\n",
        "    elastic_net = ElasticNet(alpha=alpha, max_iter=max_iter)\n",
        "    elastic_net.fit(x_train_scaled, y_train)\n",
        "\n",
        "    y_train_pred = elastic_net.predict(x_train_scaled)\n",
        "    y_test_pred = elastic_net.predict(x_test)\n",
        "\n",
        "    train_r2 = r2_score(y_train, y_train_pred)\n",
        "    test_r2 = r2_score(y_test, y_test_pred)\n",
        "    train_rmse = np.sqrt(mean_squared_error(y_train, y_train_pred))\n",
        "    test_rmse = np.sqrt(mean_squared_error(y_test, y_test_pred))\n",
        "\n",
        "    results.append({\n",
        "        'max_iter': max_iter,\n",
        "        'train_r2': train_r2,\n",
        "        'test_r2': test_r2,\n",
        "        'train_rmse': train_rmse,\n",
        "        'test_rmse': test_rmse\n",
        "    })\n",
        "\n",
        "#Рез-ты в DataFrame\n",
        "results_df = pd.DataFrame(results)\n",
        "print(results_df)\n",
        "\n"
      ]
    },
    {
      "cell_type": "code",
      "execution_count": null,
      "metadata": {
        "id": "BzJ5_G5JhPma",
        "outputId": "54c1170f-1228-40af-99a3-7e2cc6d8c25f"
      },
      "outputs": [
        {
          "data": {
            "image/png": "[encoded data removed]",
            "text/plain": [
              "<Figure size 1200x600 with 2 Axes>"
            ]
          },
          "metadata": {},
          "output_type": "display_data"
        }
      ],
      "source": [
        "#Визуализирую метрики\n",
        "plt.figure(figsize=(12, 6))\n",
        "\n",
        "#График R²\n",
        "plt.subplot(1, 2, 1)\n",
        "plt.plot(results_df['max_iter'], results_df['train_r2'], marker='o', label='Train R²')\n",
        "plt.plot(results_df['max_iter'], results_df['test_r2'], marker='x', label='Test R²', linestyle='--')\n",
        "plt.title('R² Score vs. Number of Iterations')\n",
        "plt.xlabel('Number of Iterations')\n",
        "plt.ylabel('R² Score')\n",
        "plt.xticks(results_df['max_iter'])\n",
        "plt.legend()\n",
        "plt.grid()\n",
        "\n",
        "#График RMSE\n",
        "plt.subplot(1, 2, 2)\n",
        "plt.plot(results_df['max_iter'], results_df['train_rmse'], marker='o', label='Train RMSE')\n",
        "plt.plot(results_df['max_iter'], results_df['test_rmse'], marker='x', label='Test RMSE', linestyle='--')\n",
        "plt.title('RMSE vs. Number of Iterations')\n",
        "plt.xlabel('Number of Iterations')\n",
        "plt.ylabel('RMSE')\n",
        "plt.xticks(results_df['max_iter'])\n",
        "plt.legend()\n",
        "plt.grid()\n",
        "\n",
        "plt.tight_layout()\n",
        "plt.show()"
      ]
    },
    {
      "cell_type": "markdown",
      "metadata": {
        "id": "outqflCchPma"
      },
      "source": [
        "Итог:\n",
        "ElasticNet с alpha = 0.30 показал стабильные рез-ты. Кол-во итераций от 100 до 2000 не влияет на качество модели и сама модель достигла оптимального состояния."
      ]
    }
  ],
  "metadata": {
    "kernelspec": {
      "display_name": "base",
      "language": "python",
      "name": "python3"
    },
    "language_info": {
      "codemirror_mode": {
        "name": "ipython",
        "version": 3
      },
      "file_extension": ".py",
      "mimetype": "text/x-python",
      "name": "python",
      "nbconvert_exporter": "python",
      "pygments_lexer": "ipython3",
      "version": "3.12.4"
    },
    "colab": {
      "provenance": [],
      "include_colab_link": true
    }
  },
  "nbformat": 4,
  "nbformat_minor": 0
}