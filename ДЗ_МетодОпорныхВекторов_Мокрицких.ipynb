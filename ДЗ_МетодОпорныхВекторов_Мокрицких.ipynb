{
  "cells": [
    {
      "cell_type": "markdown",
      "metadata": {
        "id": "view-in-github",
        "colab_type": "text"
      },
      "source": [
        "<a href=\"https://colab.research.google.com/github/JustMatthew989/Matvey_Mokritskikh_Repo/blob/main/%D0%94%D0%97_%D0%9C%D0%B5%D1%82%D0%BE%D0%B4%D0%9E%D0%BF%D0%BE%D1%80%D0%BD%D1%8B%D1%85%D0%92%D0%B5%D0%BA%D1%82%D0%BE%D1%80%D0%BE%D0%B2_%D0%9C%D0%BE%D0%BA%D1%80%D0%B8%D1%86%D0%BA%D0%B8%D1%85.ipynb\" target=\"_parent\"><img src=\"https://colab.research.google.com/assets/colab-badge.svg\" alt=\"Open In Colab\"/></a>"
      ]
    },
    {
      "cell_type": "code",
      "source": [
        "#ДОМАШНЕЕ ЗАДАНИЕ №5"
      ],
      "metadata": {
        "id": "ZIMCa_cfny_n"
      },
      "execution_count": null,
      "outputs": []
    },
    {
      "cell_type": "code",
      "source": [
        "#ЗАДАНИЕ №1"
      ],
      "metadata": {
        "id": "wmSKmrjCn0vq"
      },
      "execution_count": null,
      "outputs": []
    },
    {
      "cell_type": "code",
      "execution_count": null,
      "metadata": {
        "id": "ZWDiHcgYnlCb"
      },
      "outputs": [],
      "source": [
        "import pandas as pd\n",
        "from sklearn.model_selection import train_test_split\n",
        "from sklearn.preprocessing import OneHotEncoder, StandardScaler\n",
        "from sklearn.svm import SVR\n",
        "from sklearn.metrics import r2_score, mean_squared_error, mean_absolute_error"
      ]
    },
    {
      "cell_type": "code",
      "execution_count": null,
      "metadata": {
        "id": "oIkDbEyinlCc"
      },
      "outputs": [],
      "source": [
        "df = pd.DataFrame(pd.read_csv(r'C:\\Users\\snady\\.spyder-py3\\laptop_prices.csv'))\n",
        "\n",
        "for column in df.columns:\n",
        "    if df[column].dtype in ['int64', 'float64']:\n",
        "        df[column].fillna(0)\n",
        "    else:\n",
        "        df[column].fillna('other')\n",
        "\n",
        "df.drop_duplicates(inplace=True)\n",
        "\n",
        "for column in df.columns:\n",
        "    if df[column].nunique() == len(df):\n",
        "        df.drop(column, axis=1, inplace=True)\n",
        "\n",
        "categorical_columns = df.select_dtypes(include=['object']).columns.tolist()\n",
        "numerical_columns = df.select_dtypes(include=['int64', 'float64']).columns.tolist()\n",
        "\n",
        "ohe = OneHotEncoder(drop='first', sparse_output=False)\n",
        "encoded_data = pd.DataFrame(\n",
        "    ohe.fit_transform(df[categorical_columns]),\n",
        "    columns=ohe.get_feature_names_out(categorical_columns)\n",
        ")\n",
        "\n",
        "df = pd.concat([df[numerical_columns], encoded_data], axis=1)\n",
        "\n",
        "scaler = StandardScaler()\n",
        "df[numerical_columns] = scaler.fit_transform(df[numerical_columns])\n",
        "\n",
        "if 'Price_euros' in df.columns:\n",
        "    X = df.drop('Price_euros', axis=1)\n",
        "    y = df['Price_euros']\n",
        "else:\n",
        "    raise ValueError(\"Целевой столбец 'Price_euros' отсутствует в данных.\")\n",
        "\n",
        "X_train, X_test, y_train, y_test = train_test_split(X, y, test_size=0.2, random_state=42)"
      ]
    },
    {
      "cell_type": "code",
      "source": [
        "#ЗАДАНИЕ №2"
      ],
      "metadata": {
        "id": "EuaviwWpn4iH"
      },
      "execution_count": null,
      "outputs": []
    },
    {
      "cell_type": "code",
      "execution_count": null,
      "metadata": {
        "id": "--sEe1xNnlCc",
        "outputId": "77231e66-fa45-4165-b62a-4d8d8cb6892a"
      },
      "outputs": [
        {
          "name": "stdout",
          "output_type": "stream",
          "text": [
            "Метрики train:\n",
            "R2: 0.9099\n",
            "MSE: 0.0897\n",
            "MAE: 0.1538\n",
            "\n",
            "Метрики test:\n",
            "R2: 0.8122\n",
            "MSE: 0.1900\n",
            "MAE: 0.2614\n",
            "\n"
          ]
        }
      ],
      "source": [
        "model = SVR()\n",
        "model.fit(X_train, y_train)\n",
        "\n",
        "y_train_pred = model.predict(X_train)\n",
        "y_test_pred = model.predict(X_test)\n",
        "\n",
        "train_r2 = r2_score(y_train, y_train_pred)\n",
        "train_mse = mean_squared_error(y_train, y_train_pred)\n",
        "train_mae = mean_absolute_error(y_train, y_train_pred)\n",
        "\n",
        "test_r2 = r2_score(y_test, y_test_pred)\n",
        "test_mse = mean_squared_error(y_test, y_test_pred)\n",
        "test_mae = mean_absolute_error(y_test, y_test_pred)\n",
        "\n",
        "print(\"Метрики train:\")\n",
        "print(f\"R2: {train_r2:.4f}\")\n",
        "print(f\"MSE: {train_mse:.4f}\")\n",
        "print(f\"MAE: {train_mae:.4f}\\n\")\n",
        "\n",
        "print(\"Метрики test:\")\n",
        "print(f\"R2: {test_r2:.4f}\")\n",
        "print(f\"MSE: {test_mse:.4f}\")\n",
        "print(f\"MAE: {test_mae:.4f}\\n\")"
      ]
    },
    {
      "cell_type": "code",
      "source": [
        "#ЗАДАНИЕ №3"
      ],
      "metadata": {
        "id": "3KwFoIBtn9-G"
      },
      "execution_count": null,
      "outputs": []
    },
    {
      "cell_type": "code",
      "execution_count": null,
      "metadata": {
        "id": "beRv7jGjnlCd",
        "outputId": "426819df-ddfa-44ff-869e-d71680291db0"
      },
      "outputs": [
        {
          "name": "stderr",
          "output_type": "stream",
          "text": [
            "[I 2024-12-24 18:53:08,172] A new study created in memory with name: no-name-0bc99151-f48f-46c1-b43e-b3a2f66afd0a\n",
            "[I 2024-12-24 18:53:08,635] Trial 0 finished with value: 0.8836430482868382 and parameters: {'kernel': 'poly', 'C': 1.7338101040042357, 'gamma': 16.129762538240644}. Best is trial 0 with value: 0.8836430482868382.\n",
            "[I 2024-12-24 18:53:09,245] Trial 1 finished with value: 0.016971389781442525 and parameters: {'kernel': 'rbf', 'C': 1.3742520123580482, 'gamma': 2.527603408961121}. Best is trial 0 with value: 0.8836430482868382.\n",
            "[I 2024-12-24 18:53:09,670] Trial 2 finished with value: 0.8742908199115416 and parameters: {'kernel': 'rbf', 'C': 5.891740297675504, 'gamma': 0.011249184628453406}. Best is trial 0 with value: 0.8836430482868382.\n",
            "[I 2024-12-24 18:53:10,252] Trial 3 finished with value: 0.02381484716365112 and parameters: {'kernel': 'rbf', 'C': 78.14895873339023, 'gamma': 4.771652639139567}. Best is trial 0 with value: 0.8836430482868382.\n",
            "[I 2024-12-24 18:53:10,753] Trial 4 finished with value: 0.8333536159244643 and parameters: {'kernel': 'rbf', 'C': 14.670504645988444, 'gamma': 0.13985726563388162}. Best is trial 0 with value: 0.8836430482868382.\n",
            "[I 2024-12-24 18:53:11,158] Trial 5 finished with value: 0.8836406909612047 and parameters: {'kernel': 'poly', 'C': 12.593913464889251, 'gamma': 1.0684867804371354}. Best is trial 0 with value: 0.8836430482868382.\n",
            "[I 2024-12-24 18:53:11,660] Trial 6 finished with value: 0.7200092470834181 and parameters: {'kernel': 'rbf', 'C': 27.40023752051827, 'gamma': 0.2559672127740014}. Best is trial 0 with value: 0.8836430482868382.\n",
            "[I 2024-12-24 18:53:12,070] Trial 7 finished with value: 0.8836352111365249 and parameters: {'kernel': 'poly', 'C': 3.448312028123205, 'gamma': 3.611823946728486}. Best is trial 0 with value: 0.8836430482868382.\n",
            "[I 2024-12-24 18:53:12,482] Trial 8 finished with value: 0.8836471172375432 and parameters: {'kernel': 'poly', 'C': 5.650772846705058, 'gamma': 2.6854059277784263}. Best is trial 8 with value: 0.8836471172375432.\n",
            "[I 2024-12-24 18:53:13,094] Trial 9 finished with value: 0.003523583359210547 and parameters: {'kernel': 'rbf', 'C': 7.447074389273456, 'gamma': 46.23502885949939}. Best is trial 8 with value: 0.8836471172375432.\n",
            "[I 2024-12-24 18:53:13,520] Trial 10 finished with value: 0.8836359347668961 and parameters: {'kernel': 'poly', 'C': 41.11810624800244, 'gamma': 0.1267000520467533}. Best is trial 8 with value: 0.8836471172375432.\n",
            "[I 2024-12-24 18:53:13,951] Trial 11 finished with value: 0.8836356815740374 and parameters: {'kernel': 'poly', 'C': 1.3001541822455065, 'gamma': 37.91930060443908}. Best is trial 8 with value: 0.8836471172375432.\n",
            "[I 2024-12-24 18:53:14,365] Trial 12 finished with value: 0.8836369240233972 and parameters: {'kernel': 'poly', 'C': 2.8803610676457136, 'gamma': 12.317836577190715}. Best is trial 8 with value: 0.8836471172375432.\n",
            "[I 2024-12-24 18:53:14,775] Trial 13 finished with value: 0.8836419668961102 and parameters: {'kernel': 'poly', 'C': 2.279970864932057, 'gamma': 10.608741699977724}. Best is trial 8 with value: 0.8836471172375432.\n",
            "[I 2024-12-24 18:53:15,480] Trial 14 finished with value: 0.8836365474462912 and parameters: {'kernel': 'poly', 'C': 4.873187783344776, 'gamma': 84.45256068012336}. Best is trial 8 with value: 0.8836471172375432.\n",
            "[I 2024-12-24 18:53:15,891] Trial 15 finished with value: 0.8836340545590593 and parameters: {'kernel': 'poly', 'C': 1.1093566268665682, 'gamma': 0.508510121434469}. Best is trial 8 with value: 0.8836471172375432.\n",
            "[I 2024-12-24 18:53:16,295] Trial 16 finished with value: 0.8836364091771308 and parameters: {'kernel': 'poly', 'C': 2.661781611624948, 'gamma': 13.159813891237784}. Best is trial 8 with value: 0.8836471172375432.\n",
            "[I 2024-12-24 18:53:16,717] Trial 17 finished with value: 0.8836433174639919 and parameters: {'kernel': 'poly', 'C': 18.829159484015523, 'gamma': 1.3353166501319322}. Best is trial 8 with value: 0.8836471172375432.\n",
            "[I 2024-12-24 18:53:17,123] Trial 18 finished with value: 0.8986941725250862 and parameters: {'kernel': 'poly', 'C': 22.255289834430343, 'gamma': 0.02776865248859048}. Best is trial 18 with value: 0.8986941725250862.\n",
            "[I 2024-12-24 18:53:17,519] Trial 19 finished with value: 0.8936683345037234 and parameters: {'kernel': 'poly', 'C': 43.51910578417101, 'gamma': 0.017201320796465216}. Best is trial 18 with value: 0.8986941725250862.\n",
            "[I 2024-12-24 18:53:17,910] Trial 20 finished with value: 0.881517740886561 and parameters: {'kernel': 'poly', 'C': 99.47923722335936, 'gamma': 0.010339023606077247}. Best is trial 18 with value: 0.8986941725250862.\n",
            "[I 2024-12-24 18:53:18,316] Trial 21 finished with value: 0.8917560306618927 and parameters: {'kernel': 'poly', 'C': 48.45552376500859, 'gamma': 0.036799455107180024}. Best is trial 18 with value: 0.8986941725250862.\n",
            "[I 2024-12-24 18:53:18,721] Trial 22 finished with value: 0.8947146730053895 and parameters: {'kernel': 'poly', 'C': 47.50134104996432, 'gamma': 0.03401654435479275}. Best is trial 18 with value: 0.8986941725250862.\n",
            "[I 2024-12-24 18:53:19,127] Trial 23 finished with value: 0.8936326311870819 and parameters: {'kernel': 'poly', 'C': 27.49543020440011, 'gamma': 0.04250464416190422}. Best is trial 18 with value: 0.8986941725250862.\n",
            "[I 2024-12-24 18:53:19,552] Trial 24 finished with value: 0.8933396988313219 and parameters: {'kernel': 'poly', 'C': 59.27567942182354, 'gamma': 0.03316920389290822}. Best is trial 18 with value: 0.8986941725250862.\n",
            "[I 2024-12-24 18:53:19,959] Trial 25 finished with value: 0.8983760191189774 and parameters: {'kernel': 'poly', 'C': 30.63863718297232, 'gamma': 0.02302663132329792}. Best is trial 18 with value: 0.8986941725250862.\n",
            "[I 2024-12-24 18:53:20,371] Trial 26 finished with value: 0.8836429824861214 and parameters: {'kernel': 'poly', 'C': 25.665554299356412, 'gamma': 0.0802948135930727}. Best is trial 18 with value: 0.8986941725250862.\n",
            "[I 2024-12-24 18:53:20,768] Trial 27 finished with value: 0.897140360624741 and parameters: {'kernel': 'poly', 'C': 18.304923079697172, 'gamma': 0.025235887309509354}. Best is trial 18 with value: 0.8986941725250862.\n",
            "[I 2024-12-24 18:53:21,179] Trial 28 finished with value: 0.8836368830898316 and parameters: {'kernel': 'poly', 'C': 9.282654623295974, 'gamma': 0.38108296973525646}. Best is trial 18 with value: 0.8986941725250862.\n",
            "[I 2024-12-24 18:53:21,606] Trial 29 finished with value: 0.8836365564664113 and parameters: {'kernel': 'poly', 'C': 18.89157358924314, 'gamma': 0.07483827482232348}. Best is trial 18 with value: 0.8986941725250862.\n",
            "[I 2024-12-24 18:53:22,002] Trial 30 finished with value: 0.8837615718993532 and parameters: {'kernel': 'poly', 'C': 21.188351181786995, 'gamma': 0.017869205341402676}. Best is trial 18 with value: 0.8986941725250862.\n",
            "[I 2024-12-24 18:53:22,389] Trial 31 finished with value: 0.8898654748850094 and parameters: {'kernel': 'poly', 'C': 13.4776839172846, 'gamma': 0.02357189263774452}. Best is trial 18 with value: 0.8986941725250862.\n",
            "[I 2024-12-24 18:53:22,796] Trial 32 finished with value: 0.8836356832454014 and parameters: {'kernel': 'poly', 'C': 34.930973210107986, 'gamma': 0.06944760632324269}. Best is trial 18 with value: 0.8986941725250862.\n",
            "[I 2024-12-24 18:53:23,200] Trial 33 finished with value: 0.8836230784722509 and parameters: {'kernel': 'poly', 'C': 59.060200386979744, 'gamma': 0.04932677681951794}. Best is trial 18 with value: 0.8986941725250862.\n",
            "[I 2024-12-24 18:53:23,666] Trial 34 finished with value: 0.8207983381261381 and parameters: {'kernel': 'rbf', 'C': 32.521345889521086, 'gamma': 0.15661753464277942}. Best is trial 18 with value: 0.8986941725250862.\n",
            "[I 2024-12-24 18:53:24,094] Trial 35 finished with value: 0.8897819895046484 and parameters: {'kernel': 'rbf', 'C': 10.171462082655566, 'gamma': 0.010360385414296541}. Best is trial 18 with value: 0.8986941725250862.\n",
            "[I 2024-12-24 18:53:24,493] Trial 36 finished with value: 0.8994752866208512 and parameters: {'kernel': 'poly', 'C': 64.85727081147215, 'gamma': 0.022401589841706284}. Best is trial 36 with value: 0.8994752866208512.\n",
            "[I 2024-12-24 18:53:24,960] Trial 37 finished with value: 0.8966268398992744 and parameters: {'kernel': 'rbf', 'C': 67.08365745379827, 'gamma': 0.020195864073718078}. Best is trial 36 with value: 0.8994752866208512.\n",
            "[I 2024-12-24 18:53:25,359] Trial 38 finished with value: 0.8836398362459403 and parameters: {'kernel': 'poly', 'C': 91.18713257473844, 'gamma': 0.20306288493090915}. Best is trial 36 with value: 0.8994752866208512.\n",
            "[I 2024-12-24 18:53:25,760] Trial 39 finished with value: 0.883621780588403 and parameters: {'kernel': 'poly', 'C': 15.884332131737473, 'gamma': 0.10865434833083101}. Best is trial 36 with value: 0.8994752866208512.\n",
            "[I 2024-12-24 18:53:26,227] Trial 40 finished with value: 0.9031678562239475 and parameters: {'kernel': 'rbf', 'C': 34.356980305685845, 'gamma': 0.016133881808117635}. Best is trial 40 with value: 0.9031678562239475.\n",
            "[I 2024-12-24 18:53:26,675] Trial 41 finished with value: 0.9069713458815821 and parameters: {'kernel': 'rbf', 'C': 23.25569953719166, 'gamma': 0.015315787360445256}. Best is trial 41 with value: 0.9069713458815821.\n",
            "[I 2024-12-24 18:53:27,134] Trial 42 finished with value: 0.9052735679688848 and parameters: {'kernel': 'rbf', 'C': 33.54549914594933, 'gamma': 0.013956477205179932}. Best is trial 41 with value: 0.9069713458815821.\n",
            "[I 2024-12-24 18:53:27,587] Trial 43 finished with value: 0.9073923275576964 and parameters: {'kernel': 'rbf', 'C': 23.84642843677537, 'gamma': 0.01433787022519622}. Best is trial 43 with value: 0.9073923275576964.\n",
            "[I 2024-12-24 18:53:28,060] Trial 44 finished with value: 0.9043392412500475 and parameters: {'kernel': 'rbf', 'C': 39.03955719982268, 'gamma': 0.013748364871102108}. Best is trial 43 with value: 0.9073923275576964.\n",
            "[I 2024-12-24 18:53:28,542] Trial 45 finished with value: 0.9046114802244887 and parameters: {'kernel': 'rbf', 'C': 36.413287651342934, 'gamma': 0.013927892220940345}. Best is trial 43 with value: 0.9073923275576964.\n",
            "[I 2024-12-24 18:53:28,992] Trial 46 finished with value: 0.9085541970321686 and parameters: {'kernel': 'rbf', 'C': 25.20275650412447, 'gamma': 0.012201286489205997}. Best is trial 46 with value: 0.9085541970321686.\n",
            "[I 2024-12-24 18:53:29,422] Trial 47 finished with value: 0.8965331429824278 and parameters: {'kernel': 'rbf', 'C': 10.625106272136982, 'gamma': 0.012511053386874587}. Best is trial 46 with value: 0.9085541970321686.\n",
            "[I 2024-12-24 18:53:29,877] Trial 48 finished with value: 0.8874004821868647 and parameters: {'kernel': 'rbf', 'C': 15.665666270536832, 'gamma': 0.049242156216381214}. Best is trial 46 with value: 0.9085541970321686.\n",
            "[I 2024-12-24 18:53:30,320] Trial 49 finished with value: 0.8785958223022308 and parameters: {'kernel': 'rbf', 'C': 25.0180945865558, 'gamma': 0.05870143033791991}. Best is trial 46 with value: 0.9085541970321686.\n",
            "[I 2024-12-24 18:53:30,800] Trial 50 finished with value: 0.9055971032667899 and parameters: {'kernel': 'rbf', 'C': 53.50028392836181, 'gamma': 0.010037485309547258}. Best is trial 46 with value: 0.9085541970321686.\n",
            "[I 2024-12-24 18:53:31,281] Trial 51 finished with value: 0.9022693190054026 and parameters: {'kernel': 'rbf', 'C': 52.00528534000169, 'gamma': 0.013720266086225084}. Best is trial 46 with value: 0.9085541970321686.\n",
            "[I 2024-12-24 18:53:31,757] Trial 52 finished with value: 0.906129535835597 and parameters: {'kernel': 'rbf', 'C': 39.794014406083726, 'gamma': 0.011651364099352779}. Best is trial 46 with value: 0.9085541970321686.\n",
            "[I 2024-12-24 18:53:32,255] Trial 53 finished with value: 0.9018238706557448 and parameters: {'kernel': 'rbf', 'C': 78.16371292496855, 'gamma': 0.011208703136124348}. Best is trial 46 with value: 0.9085541970321686.\n",
            "[I 2024-12-24 18:53:32,804] Trial 54 finished with value: 0.018591689592470262 and parameters: {'kernel': 'rbf', 'C': 27.55145055297595, 'gamma': 6.9421152461039}. Best is trial 46 with value: 0.9085541970321686.\n",
            "[I 2024-12-24 18:53:33,238] Trial 55 finished with value: 0.8943500370991291 and parameters: {'kernel': 'rbf', 'C': 40.98191048810494, 'gamma': 0.029268770755166335}. Best is trial 46 with value: 0.9085541970321686.\n",
            "[I 2024-12-24 18:53:33,714] Trial 56 finished with value: 0.9031153982852377 and parameters: {'kernel': 'rbf', 'C': 79.41698120451936, 'gamma': 0.01045144490664917}. Best is trial 46 with value: 0.9085541970321686.\n",
            "[I 2024-12-24 18:53:34,155] Trial 57 finished with value: 0.9059171772138579 and parameters: {'kernel': 'rbf', 'C': 22.064853601239925, 'gamma': 0.017358873757495837}. Best is trial 46 with value: 0.9085541970321686.\n",
            "[I 2024-12-24 18:53:34,691] Trial 58 finished with value: 0.05821053774479934 and parameters: {'kernel': 'rbf', 'C': 11.835531682948757, 'gamma': 1.68040076710531}. Best is trial 46 with value: 0.9085541970321686.\n",
            "[I 2024-12-24 18:53:35,111] Trial 59 finished with value: 0.8977543714567129 and parameters: {'kernel': 'rbf', 'C': 7.5160218811929935, 'gamma': 0.03966210046767311}. Best is trial 46 with value: 0.9085541970321686.\n",
            "[I 2024-12-24 18:53:35,549] Trial 60 finished with value: 0.8984786588376389 and parameters: {'kernel': 'rbf', 'C': 50.92484896604474, 'gamma': 0.018502323440156506}. Best is trial 46 with value: 0.9085541970321686.\n",
            "[I 2024-12-24 18:53:35,969] Trial 61 finished with value: 0.9064356138897554 and parameters: {'kernel': 'rbf', 'C': 22.177149975637445, 'gamma': 0.016588831790880058}. Best is trial 46 with value: 0.9085541970321686.\n",
            "[I 2024-12-24 18:53:36,506] Trial 62 finished with value: 0.22524066984023772 and parameters: {'kernel': 'rbf', 'C': 22.247424870819273, 'gamma': 0.7666876772044829}. Best is trial 46 with value: 0.9085541970321686.\n",
            "[I 2024-12-24 18:53:36,934] Trial 63 finished with value: 0.9008138136486924 and parameters: {'kernel': 'rbf', 'C': 17.471863912771155, 'gamma': 0.025487630113798714}. Best is trial 46 with value: 0.9085541970321686.\n",
            "[I 2024-12-24 18:53:37,358] Trial 64 finished with value: 0.9050420191366912 and parameters: {'kernel': 'rbf', 'C': 22.09819488803122, 'gamma': 0.01850854202532132}. Best is trial 46 with value: 0.9085541970321686.\n",
            "[I 2024-12-24 18:53:37,978] Trial 65 finished with value: 0.004715970508953005 and parameters: {'kernel': 'rbf', 'C': 30.193023930324806, 'gamma': 26.287464714498768}. Best is trial 46 with value: 0.9085541970321686.\n",
            "[I 2024-12-24 18:53:38,415] Trial 66 finished with value: 0.8925576190480514 and parameters: {'kernel': 'rbf', 'C': 26.161061250597697, 'gamma': 0.03620505621787655}. Best is trial 46 with value: 0.9085541970321686.\n",
            "[I 2024-12-24 18:53:38,827] Trial 67 finished with value: 0.8977720458208158 and parameters: {'kernel': 'rbf', 'C': 13.46584384623763, 'gamma': 0.010046209981169773}. Best is trial 46 with value: 0.9085541970321686.\n",
            "[I 2024-12-24 18:53:39,257] Trial 68 finished with value: 0.8944718874660368 and parameters: {'kernel': 'rbf', 'C': 43.53009112031546, 'gamma': 0.028522200444287715}. Best is trial 46 with value: 0.9085541970321686.\n",
            "[I 2024-12-24 18:53:39,679] Trial 69 finished with value: 0.8604370529851113 and parameters: {'kernel': 'rbf', 'C': 23.329646532060558, 'gamma': 0.09399562252552893}. Best is trial 46 with value: 0.9085541970321686.\n",
            "[I 2024-12-24 18:53:40,105] Trial 70 finished with value: 0.9064006314191688 and parameters: {'kernel': 'rbf', 'C': 19.437261507013215, 'gamma': 0.017779943074576796}. Best is trial 46 with value: 0.9085541970321686.\n",
            "[I 2024-12-24 18:53:40,527] Trial 71 finished with value: 0.9067168247678307 and parameters: {'kernel': 'rbf', 'C': 19.834766696823063, 'gamma': 0.017053462987853374}. Best is trial 46 with value: 0.9085541970321686.\n",
            "[I 2024-12-24 18:53:40,949] Trial 72 finished with value: 0.9068918745629098 and parameters: {'kernel': 'rbf', 'C': 19.920393774491576, 'gamma': 0.016720919426435013}. Best is trial 46 with value: 0.9085541970321686.\n",
            "[I 2024-12-24 18:53:41,372] Trial 73 finished with value: 0.90430059839679 and parameters: {'kernel': 'rbf', 'C': 17.84504909432598, 'gamma': 0.021505989772463756}. Best is trial 46 with value: 0.9085541970321686.\n",
            "[I 2024-12-24 18:53:41,801] Trial 74 finished with value: 0.886682505930584 and parameters: {'kernel': 'rbf', 'C': 19.782132850726196, 'gamma': 0.0492125885179929}. Best is trial 46 with value: 0.9085541970321686.\n",
            "[I 2024-12-24 18:53:42,226] Trial 75 finished with value: 0.8946456217539767 and parameters: {'kernel': 'rbf', 'C': 29.004137724736335, 'gamma': 0.031462260206149076}. Best is trial 46 with value: 0.9085541970321686.\n",
            "[I 2024-12-24 18:53:42,639] Trial 76 finished with value: 0.9087545713904883 and parameters: {'kernel': 'rbf', 'C': 15.323595084278862, 'gamma': 0.016473745470331813}. Best is trial 76 with value: 0.9087545713904883.\n",
            "[I 2024-12-24 18:53:43,055] Trial 77 finished with value: 0.9083826578351522 and parameters: {'kernel': 'rbf', 'C': 14.875569875707177, 'gamma': 0.017144594789750067}. Best is trial 76 with value: 0.9087545713904883.\n",
            "[I 2024-12-24 18:53:43,468] Trial 78 finished with value: 0.881194221207043 and parameters: {'kernel': 'rbf', 'C': 15.070793727220215, 'gamma': 0.06087565277466019}. Best is trial 76 with value: 0.9087545713904883.\n",
            "[I 2024-12-24 18:53:43,873] Trial 79 finished with value: 0.9056535428371009 and parameters: {'kernel': 'rbf', 'C': 8.585016493900625, 'gamma': 0.024182907407450552}. Best is trial 76 with value: 0.9087545713904883.\n",
            "[I 2024-12-24 18:53:44,277] Trial 80 finished with value: 0.9075416947227868 and parameters: {'kernel': 'rbf', 'C': 13.317913028868455, 'gamma': 0.014692583089537374}. Best is trial 76 with value: 0.9087545713904883.\n",
            "[I 2024-12-24 18:53:44,681] Trial 81 finished with value: 0.9086310535430402 and parameters: {'kernel': 'rbf', 'C': 12.494295982027468, 'gamma': 0.017144769594576035}. Best is trial 76 with value: 0.9087545713904883.\n",
            "[I 2024-12-24 18:53:45,102] Trial 82 finished with value: 0.903988378804162 and parameters: {'kernel': 'rbf', 'C': 11.794557632715927, 'gamma': 0.014076941930046466}. Best is trial 76 with value: 0.9087545713904883.\n",
            "[I 2024-12-24 18:53:45,522] Trial 83 finished with value: 0.8922414392659563 and parameters: {'kernel': 'rbf', 'C': 13.794455116661887, 'gamma': 0.04095121805801805}. Best is trial 76 with value: 0.9087545713904883.\n",
            "[I 2024-12-24 18:53:45,925] Trial 84 finished with value: 0.8865478059458736 and parameters: {'kernel': 'rbf', 'C': 5.180896117845843, 'gamma': 0.021361965088405443}. Best is trial 76 with value: 0.9087545713904883.\n",
            "[I 2024-12-24 18:53:46,331] Trial 85 finished with value: 0.9027325857394454 and parameters: {'kernel': 'rbf', 'C': 11.211010981581598, 'gamma': 0.01415495873863414}. Best is trial 76 with value: 0.9087545713904883.\n",
            "[I 2024-12-24 18:53:46,753] Trial 86 finished with value: 0.8975038714035394 and parameters: {'kernel': 'rbf', 'C': 16.54901925530489, 'gamma': 0.03039657450099681}. Best is trial 76 with value: 0.9087545713904883.\n",
            "[I 2024-12-24 18:53:47,160] Trial 87 finished with value: 0.8935250118211626 and parameters: {'kernel': 'rbf', 'C': 8.12404366341634, 'gamma': 0.01536136272753924}. Best is trial 76 with value: 0.9087545713904883.\n",
            "[I 2024-12-24 18:53:47,573] Trial 88 finished with value: 0.9067290204010146 and parameters: {'kernel': 'rbf', 'C': 13.866149353574322, 'gamma': 0.020448551882290132}. Best is trial 76 with value: 0.9087545713904883.\n",
            "[I 2024-12-24 18:53:47,982] Trial 89 finished with value: 0.9067034442866322 and parameters: {'kernel': 'rbf', 'C': 9.544545338577423, 'gamma': 0.02201226439693831}. Best is trial 76 with value: 0.9087545713904883.\n",
            "[I 2024-12-24 18:53:48,388] Trial 90 finished with value: 0.8819068126111562 and parameters: {'kernel': 'rbf', 'C': 6.565196024025469, 'gamma': 0.012575142729916496}. Best is trial 76 with value: 0.9087545713904883.\n",
            "[I 2024-12-24 18:53:48,815] Trial 91 finished with value: 0.8987187793376863 and parameters: {'kernel': 'rbf', 'C': 14.62976886006357, 'gamma': 0.030132011639524593}. Best is trial 76 with value: 0.9087545713904883.\n",
            "[I 2024-12-24 18:53:49,236] Trial 92 finished with value: 0.906094994898171 and parameters: {'kernel': 'rbf', 'C': 16.3428996138609, 'gamma': 0.019788486615955985}. Best is trial 76 with value: 0.9087545713904883.\n",
            "[I 2024-12-24 18:53:49,659] Trial 93 finished with value: 0.9028700739769165 and parameters: {'kernel': 'rbf', 'C': 13.343142953037923, 'gamma': 0.026327751221203302}. Best is trial 76 with value: 0.9087545713904883.\n",
            "[I 2024-12-24 18:53:50,065] Trial 94 finished with value: 0.90711168855663 and parameters: {'kernel': 'rbf', 'C': 12.131728571435218, 'gamma': 0.015909614043519097}. Best is trial 76 with value: 0.9087545713904883.\n",
            "[I 2024-12-24 18:53:50,476] Trial 95 finished with value: 0.9020317522156546 and parameters: {'kernel': 'rbf', 'C': 12.515248350985864, 'gamma': 0.012253649945660963}. Best is trial 76 with value: 0.9087545713904883.\n",
            "[I 2024-12-24 18:53:51,073] Trial 96 finished with value: 0.0033059122566128085 and parameters: {'kernel': 'rbf', 'C': 10.058181937849863, 'gamma': 88.85893843323882}. Best is trial 76 with value: 0.9087545713904883.\n",
            "[I 2024-12-24 18:53:51,494] Trial 97 finished with value: 0.8897298947351715 and parameters: {'kernel': 'rbf', 'C': 14.857509112554101, 'gamma': 0.045053160605914196}. Best is trial 76 with value: 0.9087545713904883.\n",
            "[I 2024-12-24 18:53:52,000] Trial 98 finished with value: 0.47998217686161115 and parameters: {'kernel': 'rbf', 'C': 1.7785141020201287, 'gamma': 0.37208952680496643}. Best is trial 76 with value: 0.9087545713904883.\n",
            "[I 2024-12-24 18:53:52,412] Trial 99 finished with value: 0.9038619339766156 and parameters: {'kernel': 'rbf', 'C': 11.048854580127687, 'gamma': 0.015093481213606113}. Best is trial 76 with value: 0.9087545713904883.\n"
          ]
        },
        {
          "name": "stdout",
          "output_type": "stream",
          "text": [
            "Best hyperparameters:  {'kernel': 'rbf', 'C': 15.323595084278862, 'gamma': 0.016473745470331813}\n",
            "Метрики train:\n",
            "R2: 0.9797\n",
            "MSE: 0.0202\n",
            "MAE: 0.0984\n",
            "\n",
            "Метрики test:\n",
            "R2: 0.9088\n",
            "MSE: 0.0923\n",
            "MAE: 0.2227\n",
            "\n"
          ]
        }
      ],
      "source": [
        "import pandas as pd\n",
        "import optuna\n",
        "from sklearn.model_selection import train_test_split\n",
        "from sklearn.preprocessing import OneHotEncoder, StandardScaler\n",
        "from sklearn.svm import SVR\n",
        "from sklearn.metrics import r2_score, mean_squared_error, mean_absolute_error\n",
        "\n",
        "df = pd.DataFrame(pd.read_csv(r'C:\\Users\\snady\\.spyder-py3\\laptop_prices.csv'))\n",
        "\n",
        "for column in df.columns:\n",
        "    if df[column].dtype in ['int64', 'float64']:\n",
        "        df[column] = df[column].fillna(0)\n",
        "    else:\n",
        "        df[column] = df[column].fillna('other')\n",
        "\n",
        "df.drop_duplicates(inplace=True)\n",
        "\n",
        "for column in df.columns:\n",
        "    if df[column].nunique() == len(df):\n",
        "        df.drop(column, axis=1, inplace=True)\n",
        "\n",
        "categorical_columns = df.select_dtypes(include=['object']).columns.tolist()\n",
        "numerical_columns = df.select_dtypes(include=['int64', 'float64']).columns.tolist()\n",
        "\n",
        "ohe = OneHotEncoder(drop='first', sparse_output=False)\n",
        "encoded_data = pd.DataFrame(\n",
        "    ohe.fit_transform(df[categorical_columns]),\n",
        "    columns=ohe.get_feature_names_out(categorical_columns)\n",
        ")\n",
        "\n",
        "df = pd.concat([df[numerical_columns], encoded_data], axis=1)\n",
        "\n",
        "scaler = StandardScaler()\n",
        "df[numerical_columns] = scaler.fit_transform(df[numerical_columns])\n",
        "\n",
        "if 'Price_euros' in df.columns:\n",
        "    X = df.drop('Price_euros', axis=1)\n",
        "    y = df['Price_euros']\n",
        "else:\n",
        "    raise ValueError(\"Целевой столбец 'Price_euros' отсутствует в данных.\")\n",
        "\n",
        "X_train, X_test, y_train, y_test = train_test_split(X, y, test_size=0.2, random_state=42)\n",
        "\n",
        "#Это функция для оптуны\n",
        "def objective(trial):\n",
        "    kernel = trial.suggest_categorical('kernel', ['poly', 'rbf'])\n",
        "    C = trial.suggest_float('C', 1, 100, log=True)\n",
        "    gamma = trial.suggest_float('gamma', 0.01, 100, log=True)\n",
        "\n",
        "    model = SVR(kernel=kernel, C=C, gamma=gamma)\n",
        "    model.fit(X_train, y_train)\n",
        "\n",
        "\n",
        "    y_pred = model.predict(X_test)\n",
        "\n",
        "\n",
        "    r2 = r2_score(y_test, y_pred)\n",
        "    return r2\n",
        "\n",
        "study = optuna.create_study(direction='maximize')\n",
        "study.optimize(objective, n_trials=100)\n",
        "\n",
        "print(\"Best hyperparameters: \", study.best_params)\n",
        "\n",
        "best_params = study.best_params\n",
        "model = SVR(kernel=best_params['kernel'], C=best_params['C'], gamma=best_params['gamma'])\n",
        "model.fit(X_train, y_train)\n",
        "\n",
        "y_train_pred = model.predict(X_train)\n",
        "y_test_pred = model.predict(X_test)\n",
        "\n",
        "train_r2 = r2_score(y_train, y_train_pred)\n",
        "train_mse = mean_squared_error(y_train, y_train_pred)\n",
        "train_mae = mean_absolute_error(y_train, y_train_pred)\n",
        "\n",
        "test_r2 = r2_score(y_test, y_test_pred)\n",
        "test_mse = mean_squared_error(y_test, y_test_pred)\n",
        "test_mae = mean_absolute_error(y_test, y_test_pred)\n",
        "\n",
        "print(\"Метрики train:\")\n",
        "print(f\"R2: {train_r2:.4f}\")\n",
        "print(f\"MSE: {train_mse:.4f}\")\n",
        "print(f\"MAE: {train_mae:.4f}\\n\")\n",
        "\n",
        "print(\"Метрики test:\")\n",
        "print(f\"R2: {test_r2:.4f}\")\n",
        "print(f\"MSE: {test_mse:.4f}\")\n",
        "print(f\"MAE: {test_mae:.4f}\\n\")"
      ]
    },
    {
      "cell_type": "markdown",
      "metadata": {
        "id": "PBsSmaMNnlCd"
      },
      "source": [
        "Вывод: Использование Optuna для подбора гиперпараметров в значительной степени улучшило метрики и на тренировочной, и на тествыборке. Действительно нетрудно это заметить, если взглянуть на показатели R2, MSE, и MAE. Подводя итог, модель после оптимизации лучше находит правильные параметры и, соответственно, выдает более точные предикты."
      ]
    }
  ],
  "metadata": {
    "kernelspec": {
      "display_name": "base",
      "language": "python",
      "name": "python3"
    },
    "language_info": {
      "codemirror_mode": {
        "name": "ipython",
        "version": 3
      },
      "file_extension": ".py",
      "mimetype": "text/x-python",
      "name": "python",
      "nbconvert_exporter": "python",
      "pygments_lexer": "ipython3",
      "version": "3.12.4"
    },
    "colab": {
      "provenance": [],
      "include_colab_link": true
    }
  },
  "nbformat": 4,
  "nbformat_minor": 0
}